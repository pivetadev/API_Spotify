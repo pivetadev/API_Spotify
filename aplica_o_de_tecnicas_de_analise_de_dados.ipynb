{
  "nbformat": 4,
  "nbformat_minor": 0,
  "metadata": {
    "colab": {
      "provenance": []
    },
    "kernelspec": {
      "name": "python3",
      "display_name": "Python 3"
    },
    "language_info": {
      "name": "python"
    }
  },
  "cells": [
    {
      "cell_type": "markdown",
      "source": [
        "# Como coletar dados com Kaggle"
      ],
      "metadata": {
        "id": "UbdS3EMYqNmG"
      }
    },
    {
      "cell_type": "code",
      "execution_count": 2,
      "metadata": {
        "colab": {
          "base_uri": "https://localhost:8080/"
        },
        "id": "PMopA-W4JP1u",
        "outputId": "7881a6d0-09b6-444f-c138-ae0d5797969e"
      },
      "outputs": [
        {
          "output_type": "stream",
          "name": "stdout",
          "text": [
            "Downloading from https://www.kaggle.com/api/v1/datasets/download/mohamedyosef101/2024-olympics-medals-and-economic-status?dataset_version_number=11...\n"
          ]
        },
        {
          "output_type": "stream",
          "name": "stderr",
          "text": [
            "100%|██████████| 2.08k/2.08k [00:00<00:00, 3.45MB/s]"
          ]
        },
        {
          "output_type": "stream",
          "name": "stdout",
          "text": [
            "Extracting files...\n",
            "Path to dataset files: /root/.cache/kagglehub/datasets/mohamedyosef101/2024-olympics-medals-and-economic-status/versions/11\n"
          ]
        },
        {
          "output_type": "stream",
          "name": "stderr",
          "text": [
            "\n"
          ]
        }
      ],
      "source": [
        "import kagglehub\n",
        "\n",
        "# Download latest version\n",
        "path = kagglehub.dataset_download(\"mohamedyosef101/2024-olympics-medals-and-economic-status\")\n",
        "\n",
        "print(\"Path to dataset files:\", path)"
      ]
    },
    {
      "cell_type": "markdown",
      "source": [
        "**Passos a seguir:**\n",
        "\n",
        "  Listar os arquivos na pasta do dataset: Antes de carregar o arquivo CSV, vamos listar os arquivos presentes na pasta para identificar o nome do arquivo que você deseja usar."
      ],
      "metadata": {
        "id": "cjq7lqtURp2M"
      }
    },
    {
      "cell_type": "code",
      "source": [
        "import os\n",
        "\n",
        "# Caminho para o diretório onde os arquivos foram baixados\n",
        "dataset_dir = \"/root/.cache/kagglehub/datasets/mohamedyosef101/2024-olympics-medals-and-economic-status/versions/11\"\n",
        "\n",
        "# Listando os arquivos no diretório\n",
        "files = os.listdir(dataset_dir)\n",
        "print(\"Arquivos no diretório:\", files)"
      ],
      "metadata": {
        "colab": {
          "base_uri": "https://localhost:8080/"
        },
        "id": "1xjFeduBL-MF",
        "outputId": "e74e9829-b908-4961-d0d9-ca163de91e60"
      },
      "execution_count": 3,
      "outputs": [
        {
          "output_type": "stream",
          "name": "stdout",
          "text": [
            "Arquivos no diretório: ['olympics-economics.csv']\n"
          ]
        }
      ]
    },
    {
      "cell_type": "markdown",
      "source": [
        "**Carregar o arquivo CSV no Pandas:** Depois de identificar o arquivo correto, ajuste o caminho e carregue-o. Por exemplo, se o arquivo for 2024_olympics_medals.csv, faça o seguinte:"
      ],
      "metadata": {
        "id": "9nrifVuOSuVl"
      }
    },
    {
      "cell_type": "code",
      "source": [
        "import pandas as pd\n",
        "\n",
        "# Ajuste o caminho para o arquivo CSV corretamente\n",
        "csv_path = os.path.join(dataset_dir, \"olympics-economics.csv\")\n",
        "\n",
        "# Lendo o arquivo CSV no Pandas\n",
        "df = pd.read_csv(csv_path)\n",
        "\n",
        "# Exibindo as primeiras linhas do DataFrame\n",
        "print(df.head())"
      ],
      "metadata": {
        "colab": {
          "base_uri": "https://localhost:8080/"
        },
        "id": "4NHH2sEsNkHo",
        "outputId": "197dcfee-cd4b-4086-fb42-5d7ec8b79d14"
      },
      "execution_count": 4,
      "outputs": [
        {
          "output_type": "stream",
          "name": "stdout",
          "text": [
            "         country country_code  gold  silver  bronze  total       gdp  \\\n",
            "0  United States          USA    40      44      42    126  81695.19   \n",
            "1          China          CHN    40      27      24     91  12614.06   \n",
            "2          Japan          JPN    20      12      13     45  33834.39   \n",
            "3      Australia          AUS    18      19      16     53  64711.77   \n",
            "4         France          FRA    16      26      22     64  44460.82   \n",
            "\n",
            "   gdp_year  population  \n",
            "0      2023       334.9  \n",
            "1      2023      1410.7  \n",
            "2      2023       124.5  \n",
            "3      2023        26.6  \n",
            "4      2023        68.2  \n"
          ]
        }
      ]
    },
    {
      "cell_type": "markdown",
      "source": [
        "Explicação\n",
        "\n",
        "`os.path.join():`\n",
        "\n",
        "  **Função:** Esta é uma função da biblioteca os do Python que é usada para criar um caminho de diretório de forma segura e correta.\n",
        "<br>\n",
        "\n",
        "  **Propósito:** Ao usar os.path.join(), você evita problemas com a formatação de caminhos em diferentes sistemas operacionais (como Windows, macOS e Linux), que podem usar barras (/ ou \\) de forma diferente.\n",
        "<br>\n",
        "\n",
        "  **Exemplo de uso:** Se dataset_dir é \"/root/.cache/kagglehub/datasets/mohamedyosef101/2024-olympics-medals-and-economic-status/versions/11\" e o nome do arquivo é \"olympics-economics.csv\", a função os.path.join() unirá esses dois elementos em um único caminho: \"/root/.cache/kagglehub/datasets/mohamedyosef101/2024-olympics-medals-and-economic-status/versions/11/olympics-economics.csv\"."
      ],
      "metadata": {
        "id": "B3kIK4pUTh9k"
      }
    },
    {
      "cell_type": "markdown",
      "source": [
        "# Como coletar dados no API\n",
        "\n",
        "Aqui vamos pegar exemplos com spotify para a gente ver como funciona o API.\n",
        "\n",
        "Vou deixar link da documentação para vocês lerem também.\n",
        "\n",
        "[Documentação Spotify](https://developer.spotify.com/documentation/web-api)"
      ],
      "metadata": {
        "id": "FBE0_aRvqMMn"
      }
    },
    {
      "cell_type": "markdown",
      "source": [
        "**Instale a Biblioteca spotipy**\n",
        "\n",
        "Para facilitar a interação com a API do Spotify usando Python, você pode usar a biblioteca spotipy. Instale-a usando o seguinte comando"
      ],
      "metadata": {
        "id": "mMlkV9rSr7Ta"
      }
    },
    {
      "cell_type": "code",
      "source": [
        "pip install spotipy"
      ],
      "metadata": {
        "colab": {
          "base_uri": "https://localhost:8080/"
        },
        "id": "w_nrE6I4ThcL",
        "outputId": "30de32d2-790e-4964-ee5b-ad72eb714293"
      },
      "execution_count": 5,
      "outputs": [
        {
          "output_type": "stream",
          "name": "stdout",
          "text": [
            "Collecting spotipy\n",
            "  Downloading spotipy-2.24.0-py3-none-any.whl.metadata (4.9 kB)\n",
            "Collecting redis>=3.5.3 (from spotipy)\n",
            "  Downloading redis-5.1.1-py3-none-any.whl.metadata (9.1 kB)\n",
            "Requirement already satisfied: requests>=2.25.0 in /usr/local/lib/python3.10/dist-packages (from spotipy) (2.32.3)\n",
            "Requirement already satisfied: urllib3>=1.26.0 in /usr/local/lib/python3.10/dist-packages (from spotipy) (2.2.3)\n",
            "Requirement already satisfied: async-timeout>=4.0.3 in /usr/local/lib/python3.10/dist-packages (from redis>=3.5.3->spotipy) (4.0.3)\n",
            "Requirement already satisfied: charset-normalizer<4,>=2 in /usr/local/lib/python3.10/dist-packages (from requests>=2.25.0->spotipy) (3.4.0)\n",
            "Requirement already satisfied: idna<4,>=2.5 in /usr/local/lib/python3.10/dist-packages (from requests>=2.25.0->spotipy) (3.10)\n",
            "Requirement already satisfied: certifi>=2017.4.17 in /usr/local/lib/python3.10/dist-packages (from requests>=2.25.0->spotipy) (2024.8.30)\n",
            "Downloading spotipy-2.24.0-py3-none-any.whl (30 kB)\n",
            "Downloading redis-5.1.1-py3-none-any.whl (261 kB)\n",
            "\u001b[2K   \u001b[90m━━━━━━━━━━━━━━━━━━━━━━━━━━━━━━━━━━━━━━━━\u001b[0m \u001b[32m261.3/261.3 kB\u001b[0m \u001b[31m7.5 MB/s\u001b[0m eta \u001b[36m0:00:00\u001b[0m\n",
            "\u001b[?25hInstalling collected packages: redis, spotipy\n",
            "Successfully installed redis-5.1.1 spotipy-2.24.0\n"
          ]
        }
      ]
    },
    {
      "cell_type": "markdown",
      "source": [
        "**Autenticação**\n",
        "\n",
        "Você pode usar a autenticação OAuth para acessar dados da API. Aqui está um exemplo básico de como se autenticar e acessar algumas informações usando spotipy:"
      ],
      "metadata": {
        "id": "Cf-gF4pBsNRl"
      }
    },
    {
      "cell_type": "code",
      "source": [
        "# Autenticação com as credenciais diretamente no código\n",
        "sp = spotipy.Spotify(client_credentials_manager=SpotifyClientCredentials(client_id=\"SEU_CLIENT_ID\", client_secret=\"SEU_CLIENT_SECRET\"))\n",
        "print('Autenticado com sucesso!')"
      ],
      "metadata": {
        "colab": {
          "base_uri": "https://localhost:8080/",
          "height": 180
        },
        "id": "YexrPxvz4VU-",
        "outputId": "c66e5742-6e68-4433-f342-ce08eb63c58a"
      },
      "execution_count": 6,
      "outputs": [
        {
          "output_type": "error",
          "ename": "NameError",
          "evalue": "name 'spotipy' is not defined",
          "traceback": [
            "\u001b[0;31m---------------------------------------------------------------------------\u001b[0m",
            "\u001b[0;31mNameError\u001b[0m                                 Traceback (most recent call last)",
            "\u001b[0;32m<ipython-input-6-e3aaba221e54>\u001b[0m in \u001b[0;36m<cell line: 2>\u001b[0;34m()\u001b[0m\n\u001b[1;32m      1\u001b[0m \u001b[0;31m# Autenticação com as credenciais diretamente no código\u001b[0m\u001b[0;34m\u001b[0m\u001b[0;34m\u001b[0m\u001b[0m\n\u001b[0;32m----> 2\u001b[0;31m \u001b[0msp\u001b[0m \u001b[0;34m=\u001b[0m \u001b[0mspotipy\u001b[0m\u001b[0;34m.\u001b[0m\u001b[0mSpotify\u001b[0m\u001b[0;34m(\u001b[0m\u001b[0mclient_credentials_manager\u001b[0m\u001b[0;34m=\u001b[0m\u001b[0mSpotifyClientCredentials\u001b[0m\u001b[0;34m(\u001b[0m\u001b[0mclient_id\u001b[0m\u001b[0;34m=\u001b[0m\u001b[0;34m\"SEU_CLIENT_ID\"\u001b[0m\u001b[0;34m,\u001b[0m \u001b[0mclient_secret\u001b[0m\u001b[0;34m=\u001b[0m\u001b[0;34m\"SEU_CLIENT_SECRET\"\u001b[0m\u001b[0;34m)\u001b[0m\u001b[0;34m)\u001b[0m\u001b[0;34m\u001b[0m\u001b[0;34m\u001b[0m\u001b[0m\n\u001b[0m\u001b[1;32m      3\u001b[0m \u001b[0mprint\u001b[0m\u001b[0;34m(\u001b[0m\u001b[0;34m'Autenticado com sucesso!'\u001b[0m\u001b[0;34m)\u001b[0m\u001b[0;34m\u001b[0m\u001b[0;34m\u001b[0m\u001b[0m\n",
            "\u001b[0;31mNameError\u001b[0m: name 'spotipy' is not defined"
          ]
        }
      ]
    },
    {
      "cell_type": "code",
      "source": [
        "import spotipy\n",
        "from spotipy.oauth2  import SpotifyClientCredentials\n",
        "import os\n",
        "\n",
        "# Configure suas credenciais\n",
        "os.environ['SPOTIPY_CLIENT_ID'] = 'c3a96d0597844d469abf90d178221bd4'\n",
        "os.environ['SPOTIPY_CLIENT_SECRET'] = '8ad528ca2b5d4d3fadfa625ba342b7e9'\n",
        "\n",
        "# Autenticação\n",
        "sp = spotipy.Spotify(client_credentials_manager=SpotifyClientCredentials())\n",
        "print('Autenticado com sucesso!')"
      ],
      "metadata": {
        "colab": {
          "base_uri": "https://localhost:8080/"
        },
        "id": "tKt_19cE2Vcu",
        "outputId": "a4779024-9ded-42d2-9add-082ae9fc99c2"
      },
      "execution_count": 43,
      "outputs": [
        {
          "output_type": "stream",
          "name": "stdout",
          "text": [
            "Autenticado com sucesso!\n"
          ]
        }
      ]
    },
    {
      "cell_type": "code",
      "source": [
        "#informação de Artista\n",
        "\n",
        "results = sp.search(q='Adrielle Vieira', type='artist')\n",
        "artist = results['artists']['items'][0]\n",
        "print(f\"Nome: {artist['name']}\")\n",
        "print(f\"Popularidade: {artist['popularity']}\")\n",
        "print(f\"Gêneros: {', ' .join(artist['genres'])}\")"
      ],
      "metadata": {
        "colab": {
          "base_uri": "https://localhost:8080/"
        },
        "id": "TtS72jm_sR8b",
        "outputId": "df031421-ebbe-41aa-b6c6-937d4e0331f3"
      },
      "execution_count": 44,
      "outputs": [
        {
          "output_type": "stream",
          "name": "stdout",
          "text": [
            "Nome: Adrielle Vieira\n",
            "Popularidade: 0\n",
            "Gêneros: \n"
          ]
        }
      ]
    },
    {
      "cell_type": "code",
      "source": [
        "#Obtendo os álbuns e faixas mais populares\n",
        "\n",
        "artist_id = artist['id']\n",
        "top_tracks = sp.artist_top_tracks(artist_id)\n",
        "\n",
        "for track in top_tracks['tracks']:\n",
        "  print(f\"Música: {track['name']}, Popularidade {track['popularity']}\")"
      ],
      "metadata": {
        "colab": {
          "base_uri": "https://localhost:8080/"
        },
        "id": "yLThddvE7f0n",
        "outputId": "eaf823cb-60f8-4b29-ccb1-6dea91718f99"
      },
      "execution_count": 46,
      "outputs": [
        {
          "output_type": "stream",
          "name": "stdout",
          "text": [
            "Música: Gotham City, Popularidade 0\n",
            "Música: Kemet Baixada, Popularidade 0\n",
            "Música: Vagão, Popularidade 0\n",
            "Música: Clipe, Popularidade 0\n",
            "Música: Vai Descendo Comigo, Popularidade 0\n",
            "Música: Juntin, Popularidade 0\n",
            "Música: Resistência, Popularidade 0\n",
            "Música: Bença, Vó!, Popularidade 0\n"
          ]
        }
      ]
    },
    {
      "cell_type": "code",
      "source": [
        "def get_artist_id(artist_name):\n",
        "    results = sp.search(q=artist_name, type='artist')\n",
        "    if results['artists']['items']:\n",
        "        return results['artists']['items'][0]['id']\n",
        "    else:\n",
        "        return None\n",
        "\n",
        "def get_artist_top_tracks(artist_name):\n",
        "    artist_id = get_artist_id(artist_name)\n",
        "    if artist_id:\n",
        "        # Obtém as 10 músicas mais populares do artista\n",
        "        top_tracks = sp.artist_top_tracks(artist_id)\n",
        "        print(f\"Top músicas de {artist_name}:\")\n",
        "        for track in top_tracks['tracks']:\n",
        "            print(f\"Nome: {track['name']}\")\n",
        "            print(f\"Popularidade: {track['popularity']}\")\n",
        "            print(f\"Duração: {track['duration_ms'] / 1000} segundos\")\n",
        "            print(f\"Link: {track['external_urls']['spotify']}\")\n",
        "            print('-' * 30)\n",
        "    else:\n",
        "        print(f\"Artista '{artist_name}' não encontrado.\")\n",
        "\n",
        "# Exemplo de uso\n",
        "get_artist_top_tracks('Adrielle Vieira')"
      ],
      "metadata": {
        "colab": {
          "base_uri": "https://localhost:8080/"
        },
        "id": "7YsFIawM9yHW",
        "outputId": "a5acdcbb-9e6a-479f-c386-d2412f64b80f"
      },
      "execution_count": 47,
      "outputs": [
        {
          "output_type": "stream",
          "name": "stdout",
          "text": [
            "Top músicas de Adrielle Vieira:\n",
            "Nome: Gotham City\n",
            "Popularidade: 0\n",
            "Duração: 136.625 segundos\n",
            "Link: https://open.spotify.com/track/5RBta7CVs91HMq5fkGV8VN\n",
            "------------------------------\n",
            "Nome: Kemet Baixada\n",
            "Popularidade: 0\n",
            "Duração: 172.137 segundos\n",
            "Link: https://open.spotify.com/track/77ZWXJ3aBVrbeJGAxJCvUz\n",
            "------------------------------\n",
            "Nome: Vagão\n",
            "Popularidade: 0\n",
            "Duração: 149.333 segundos\n",
            "Link: https://open.spotify.com/track/5SXRWUWFHnX4vDqGI8ZSiQ\n",
            "------------------------------\n",
            "Nome: Clipe\n",
            "Popularidade: 0\n",
            "Duração: 177.214 segundos\n",
            "Link: https://open.spotify.com/track/5aQcWt95A7JalZQYBZhUEi\n",
            "------------------------------\n",
            "Nome: Vai Descendo Comigo\n",
            "Popularidade: 0\n",
            "Duração: 163.555 segundos\n",
            "Link: https://open.spotify.com/track/3U5NyBGyG0Xs38kvBeEykN\n",
            "------------------------------\n",
            "Nome: Juntin\n",
            "Popularidade: 0\n",
            "Duração: 185.057 segundos\n",
            "Link: https://open.spotify.com/track/3mdP0jOlzwOjUvrofdEHph\n",
            "------------------------------\n",
            "Nome: Resistência\n",
            "Popularidade: 0\n",
            "Duração: 125.076 segundos\n",
            "Link: https://open.spotify.com/track/64unUbiLPdgK6xeg3sF5tw\n",
            "------------------------------\n",
            "Nome: Bença, Vó!\n",
            "Popularidade: 0\n",
            "Duração: 247.72 segundos\n",
            "Link: https://open.spotify.com/track/6LAjnaLdq1UagPMG423HHu\n",
            "------------------------------\n"
          ]
        }
      ]
    },
    {
      "cell_type": "code",
      "source": [
        "#Obter Listas de Reprodução Populares\n",
        "\n",
        "def get_playlists_for_artist(artist_name):\n",
        "    artist_id = get_artist_id(artist_name)\n",
        "    if artist_id:\n",
        "        results = sp.search(q=artist_name, type='playlist')\n",
        "        print(f\"Playlists com músicas de {artist_name}:\")\n",
        "        for playlist in results['playlists']['items']:\n",
        "            print(f\"Nome da Playlist: {playlist['name']}\")\n",
        "            print(f\"Total de músicas: {playlist['tracks']['total']}\")\n",
        "            print(f\"Link: {playlist['external_urls']['spotify']}\")\n",
        "            print('-' * 30)\n",
        "    else:\n",
        "        print(f\"Artista '{artist_name}' não encontrado.\")\n",
        "\n",
        "# Exemplo de uso\n",
        "get_playlists_for_artist('Adrielle Vieira')"
      ],
      "metadata": {
        "colab": {
          "base_uri": "https://localhost:8080/"
        },
        "id": "HG15qKRw-3XR",
        "outputId": "7276daa7-740d-486d-b5de-28286bfdbae2"
      },
      "execution_count": 48,
      "outputs": [
        {
          "output_type": "stream",
          "name": "stdout",
          "text": [
            "Playlists com músicas de Adrielle Vieira:\n",
            "Nome da Playlist: Adrielle Vieira Radio\n",
            "Total de músicas: 50\n",
            "Link: https://open.spotify.com/playlist/37i9dQZF1E4vIlFqUAJe3E\n",
            "------------------------------\n",
            "Nome da Playlist: ADRIELY VIEIRA\n",
            "Total de músicas: 388\n",
            "Link: https://open.spotify.com/playlist/2FuiFAL5mA62TcNVhCpTYs\n",
            "------------------------------\n",
            "Nome da Playlist: Adrielle Vieira Radio\n",
            "Total de músicas: 50\n",
            "Link: https://open.spotify.com/playlist/37i9dQZF1E4x6xt71ji0l8\n",
            "------------------------------\n",
            "Nome da Playlist: Andréia Vieira\n",
            "Total de músicas: 524\n",
            "Link: https://open.spotify.com/playlist/3NjNRFaQiwkra1xKpPVn39\n",
            "------------------------------\n",
            "Nome da Playlist: Studio Adrielle Gonçalves\n",
            "Total de músicas: 258\n",
            "Link: https://open.spotify.com/playlist/5cip06DCGH9JTVVgS3ONAw\n",
            "------------------------------\n",
            "Nome da Playlist: Adrián Vieira\n",
            "Total de músicas: 376\n",
            "Link: https://open.spotify.com/playlist/1pvBTshJrbhwa1LLf7ZfsP\n",
            "------------------------------\n",
            "Nome da Playlist: Adrielle Lopes Mix\n",
            "Total de músicas: 50\n",
            "Link: https://open.spotify.com/playlist/37i9dQZF1EIZAkj6L40fy0\n",
            "------------------------------\n",
            "Nome da Playlist: 🎧 adrielle’s playlist 🎶\n",
            "Total de músicas: 16\n",
            "Link: https://open.spotify.com/playlist/6kxxgioymqcuoKNmPt0aeQ\n",
            "------------------------------\n",
            "Nome da Playlist: Adrielly \n",
            "Total de músicas: 129\n",
            "Link: https://open.spotify.com/playlist/0kDvuzN5EfvI2ziIyGVRj6\n",
            "------------------------------\n",
            "Nome da Playlist: 𝕬𝖉𝖗𝖎𝖊𝖑𝖑𝖞👺🌕\n",
            "Total de músicas: 240\n",
            "Link: https://open.spotify.com/playlist/3EAE82VhgGp4TzgyspGK0f\n",
            "------------------------------\n"
          ]
        }
      ]
    },
    {
      "cell_type": "code",
      "source": [
        "#Obter Estatísticas de Áudio das Músicas\n",
        "\n",
        "def get_audio_features(track_id):\n",
        "    try:\n",
        "        # Obtém as features da música\n",
        "        audio_features = sp.audio_features(track_id)\n",
        "        if audio_features:\n",
        "            features = audio_features[0]\n",
        "            print(f\"Features da música ID {track_id}:\")\n",
        "            print(f\"Valência: {features['valence']}\")\n",
        "            print(f\"Tempo: {features['tempo']}\")\n",
        "            print(f\"Acousticidade: {features['acousticness']}\")\n",
        "            print(f\"Instrumentalidade: {features['instrumentalness']}\")\n",
        "            print(f\"Dançabilidade: {features['danceability']}\")\n",
        "            print(f\"Link: {features['track_href']}\")\n",
        "        else:\n",
        "            print(f\"Nenhuma feature encontrada para o ID {track_id}\")\n",
        "    except Exception as e:\n",
        "        print(f\"Erro ao obter as features: {e}\")\n",
        "\n",
        "# Teste com o ID da música\n",
        "top_track_id = 'https://open.spotify.com/intl-pt/track/77ZWXJ3aBVrbeJGAxJCvUz?si=15be267f3d7f4692'  # Substitua pelo ID da música correta\n",
        "get_audio_features(top_track_id)"
      ],
      "metadata": {
        "colab": {
          "base_uri": "https://localhost:8080/"
        },
        "id": "rU4lDZlWAM86",
        "outputId": "7ecd6c92-fd33-4821-e970-ffd26977a86b"
      },
      "execution_count": 49,
      "outputs": [
        {
          "output_type": "stream",
          "name": "stdout",
          "text": [
            "Features da música ID https://open.spotify.com/intl-pt/track/77ZWXJ3aBVrbeJGAxJCvUz?si=15be267f3d7f4692:\n",
            "Valência: 0.917\n",
            "Tempo: 145.068\n",
            "Acousticidade: 0.478\n",
            "Instrumentalidade: 0.307\n",
            "Dançabilidade: 0.867\n",
            "Link: https://api.spotify.com/v1/tracks/77ZWXJ3aBVrbeJGAxJCvUz\n"
          ]
        }
      ]
    },
    {
      "cell_type": "code",
      "source": [
        "import spotipy\n",
        "from spotipy.oauth2 import SpotifyClientCredentials\n",
        "\n",
        "# Autenticação\n",
        "client_id = 'c3a96d0597844d469abf90d178221bd4'\n",
        "client_secret = '8ad528ca2b5d4d3fadfa625ba342b7e9'\n",
        "\n",
        "credentials = SpotifyClientCredentials(client_id=client_id, client_secret=client_secret)\n",
        "sp = spotipy.Spotify(client_credentials_manager=credentials)\n",
        "\n",
        "def buscar_singles(artist_id):\n",
        "    try:\n",
        "        # Obtém os álbuns do artista do tipo 'single'\n",
        "        albums = sp.artist_albums(artist_id, album_type='single')['items']\n",
        "\n",
        "        # Armazena informações dos singles\n",
        "        singles_info = []\n",
        "        for album in albums:\n",
        "            # Obtem as faixas do álbum\n",
        "            tracks = sp.album_tracks(album['id'])['items']\n",
        "            for track in tracks:\n",
        "                singles_info.append({\n",
        "                    'Musica': track['name'],\n",
        "                    'Album': album['name'],\n",
        "                    'Popularidade': track['popularity'],\n",
        "                })\n",
        "        return singles_info\n",
        "\n",
        "    except Exception as e:\n",
        "        print(f\"Erro ao buscar singles: {e}\")\n",
        "        return []\n",
        "\n",
        "# Exemplo de uso\n",
        "artist_id = '27CgxvcVt6XHurgcoiRc6b'  # Substitua pelo ID do artista\n",
        "singles = buscar_singles(artist_id)\n",
        "\n",
        "# Mostrando os resultados\n",
        "if singles:\n",
        "    for single in singles:\n",
        "        print(single)\n",
        "else:\n",
        "    print(\"Nenhum single encontrado ou erro na busca.\")\n"
      ],
      "metadata": {
        "colab": {
          "base_uri": "https://localhost:8080/"
        },
        "id": "6RWpR3jvC65X",
        "outputId": "d7148dc9-2bf3-40d0-fdee-94fa1cedb7bf"
      },
      "execution_count": 50,
      "outputs": [
        {
          "output_type": "stream",
          "name": "stdout",
          "text": [
            "Erro ao buscar singles: 'popularity'\n",
            "Nenhum single encontrado ou erro na busca.\n"
          ]
        }
      ]
    },
    {
      "cell_type": "code",
      "source": [
        "#API de Artista do Spotify\n",
        "\n",
        "def get_artist_id(artist_name):\n",
        "    results = sp.search(q=artist_name, type='artist')\n",
        "    artists = results['artists']['items']\n",
        "    if artists:\n",
        "        return artists[0]['id']  # Retorna o ID do primeiro artista encontrado\n",
        "    else:\n",
        "        return None\n",
        "\n",
        "# Exemplo de uso\n",
        "artist_name = 'Adrielle Vieira'  # Substitua pelo nome do artista desejado\n",
        "artist_id = get_artist_id(artist_name)\n",
        "\n",
        "if artist_id:\n",
        "    print(f\"O ID do artista {artist_name} é: {artist_id}\")\n",
        "else:\n",
        "    print(\"Artista não encontrado.\")"
      ],
      "metadata": {
        "colab": {
          "base_uri": "https://localhost:8080/"
        },
        "id": "A6R7cqCLGO4S",
        "outputId": "fac188f0-4211-4380-c6c0-a4d1584dad5d"
      },
      "execution_count": 51,
      "outputs": [
        {
          "output_type": "stream",
          "name": "stdout",
          "text": [
            "O ID do artista Adrielle Vieira é: 27CgxvcVt6XHurgcoiRc6b\n"
          ]
        }
      ]
    },
    {
      "cell_type": "code",
      "source": [
        "# Verificar músicas populares\n",
        "def buscar_singles(artist_id):\n",
        "    try:\n",
        "        # Busca álbuns do artista\n",
        "        albums = sp.artist_albums(artist_id, album_type='single')\n",
        "\n",
        "        singles_info = []\n",
        "        for album in albums['items']:\n",
        "            # Busca as faixas do álbum\n",
        "            tracks = sp.album_tracks(album['id'])\n",
        "            for track in tracks['items']:\n",
        "                # Coletando informações dos singles\n",
        "                single_info = {\n",
        "                    'id': track['id'],\n",
        "                    'name': track['name'],\n",
        "                    'popularity': track.get('popularity', 'N/A'),  # Usando get para evitar KeyError\n",
        "                    'album': album['name'],\n",
        "                    'duration_ms': track['duration_ms'],\n",
        "                    'artists': [artist['name'] for artist in track['artists']]\n",
        "                }\n",
        "                singles_info.append(single_info)\n",
        "\n",
        "        return singles_info\n",
        "\n",
        "    except Exception as e:\n",
        "        print(f\"Erro ao buscar singles: {e}\")\n",
        "        return []\n",
        "\n",
        "# buscar o artista\n",
        "artist_id = '27CgxvcVt6XHurgcoiRc6b'  # Substitua pelo ID do artista\n",
        "singles = buscar_singles(artist_id)\n",
        "\n",
        "if singles:\n",
        "    for single in singles:\n",
        "        print(f\"Single Name: {single['name']}\")\n",
        "        print(f\"ID: {single['id']}\")\n",
        "        print(f\"Album: {single['album']}\")\n",
        "        print(f\"Duration: {single['duration_ms']} ms\")\n",
        "        print(f\"Popularity: {single['popularity']}\")\n",
        "        print(f\"Artists: {', '.join(single['artists'])}\")\n",
        "        print(\"-\" * 40)\n",
        "else:\n",
        "    print(\"Nenhum single encontrado ou erro na busca.\")"
      ],
      "metadata": {
        "colab": {
          "base_uri": "https://localhost:8080/"
        },
        "id": "TvbhNcnkF30D",
        "outputId": "c3a6ca32-ebd2-462b-88d3-cf87db43b7bf"
      },
      "execution_count": 52,
      "outputs": [
        {
          "output_type": "stream",
          "name": "stdout",
          "text": [
            "Single Name: Clipe\n",
            "ID: 5aQcWt95A7JalZQYBZhUEi\n",
            "Album: Clipe\n",
            "Duration: 177214 ms\n",
            "Popularity: N/A\n",
            "Artists: Adrielle Vieira, Joss Dee\n",
            "----------------------------------------\n",
            "Single Name: Kemet Baixada\n",
            "ID: 77ZWXJ3aBVrbeJGAxJCvUz\n",
            "Album: Kemet Baixada\n",
            "Duration: 172137 ms\n",
            "Popularity: N/A\n",
            "Artists: Adrielle Vieira, Buzu, Madashi\n",
            "----------------------------------------\n",
            "Single Name: Vai Descendo Comigo\n",
            "ID: 3U5NyBGyG0Xs38kvBeEykN\n",
            "Album: Vai Descendo Comigo\n",
            "Duration: 163555 ms\n",
            "Popularity: N/A\n",
            "Artists: Adrielle Vieira, DJ Seduty\n",
            "----------------------------------------\n",
            "Single Name: Vagão\n",
            "ID: 5SXRWUWFHnX4vDqGI8ZSiQ\n",
            "Album: Vagão\n",
            "Duration: 149333 ms\n",
            "Popularity: N/A\n",
            "Artists: Adrielle Vieira, Lastra, #estudeofunk\n",
            "----------------------------------------\n",
            "Single Name: Bença, Vó!\n",
            "ID: 6LAjnaLdq1UagPMG423HHu\n",
            "Album: Bença, Vó!\n",
            "Duration: 247720 ms\n",
            "Popularity: N/A\n",
            "Artists: Adrielle Vieira, Eufena\n",
            "----------------------------------------\n",
            "Single Name: Juntin\n",
            "ID: 3mdP0jOlzwOjUvrofdEHph\n",
            "Album: Juntin\n",
            "Duration: 185057 ms\n",
            "Popularity: N/A\n",
            "Artists: Adrielle Vieira\n",
            "----------------------------------------\n",
            "Single Name: Resistência\n",
            "ID: 64unUbiLPdgK6xeg3sF5tw\n",
            "Album: Resistência\n",
            "Duration: 125076 ms\n",
            "Popularity: N/A\n",
            "Artists: Adrielle Vieira\n",
            "----------------------------------------\n"
          ]
        }
      ]
    },
    {
      "cell_type": "code",
      "source": [
        "#Ouvintes Mensais\n",
        "def obter_ouvintes_mensais(artist_id):\n",
        "    try:\n",
        "        # Obter informações do artista\n",
        "        artist_info = sp.artist(artist_id)\n",
        "\n",
        "        # Retornar o número de ouvintes mensais\n",
        "        monthly_listeners = artist_info['followers']['total'] if 'followers' in artist_info else 'N/A'\n",
        "        return monthly_listeners\n",
        "    except Exception as e:\n",
        "        print(f\"Erro ao buscar informações: {e}\")\n",
        "        return None\n",
        "\n",
        "# Exemplo de uso\n",
        "artist_id = '27CgxvcVt6XHurgcoiRc6b'  # Substitua pelo ID do artista\n",
        "monthly_listeners = obter_ouvintes_mensais(artist_id)\n",
        "\n",
        "print(f\"Ouvintes mensais: {monthly_listeners}\")"
      ],
      "metadata": {
        "colab": {
          "base_uri": "https://localhost:8080/"
        },
        "id": "MukG4VrbC2d0",
        "outputId": "df5f682a-c206-4d08-dc6c-7aab89dbb315"
      },
      "execution_count": 53,
      "outputs": [
        {
          "output_type": "stream",
          "name": "stdout",
          "text": [
            "Ouvintes mensais: 291\n"
          ]
        }
      ]
    },
    {
      "cell_type": "code",
      "source": [
        "from datetime import datetime\n",
        "\n",
        "def obter_ouvintes_mensais(artist_id):\n",
        "    try:\n",
        "        # Obter informações do artista\n",
        "        artist_info = sp.artist(artist_id)\n",
        "\n",
        "        # Extraindo o nome do artista e ouvintes mensais\n",
        "        artist_name = artist_info['name']\n",
        "        ouvintes_mensais = artist_info['followers']['total']  # Total de seguidores\n",
        "\n",
        "        print(f\"{datetime.now()} - Ouvintes mensais de {artist_name}: {ouvintes_mensais}\")\n",
        "\n",
        "        return artist_name, ouvintes_mensais\n",
        "    except Exception as e:\n",
        "        print(f\"Erro ao buscar informações: {e}\")\n",
        "        return None, None\n",
        "\n",
        "# Substitua pelo ID do artista\n",
        "artist_id = '27CgxvcVt6XHurgcoiRc6b'\n",
        "\n",
        "# Coletar os dados\n",
        "artist_name, ouvintes_mensais = obter_ouvintes_mensais(artist_id)\n",
        "\n",
        "# Armazenar os dados em um CSV\n",
        "if ouvintes_mensais is not None:\n",
        "    # Criar um DataFrame\n",
        "    data = {\n",
        "        'Data': [datetime.now()],\n",
        "        'Artista': [artist_name],\n",
        "        'Ouvintes Mensais': [ouvintes_mensais]\n",
        "    }\n",
        "\n",
        "    df = pd.DataFrame(data)\n",
        "\n",
        "    # Salvar no arquivo CSV\n",
        "    df.to_csv('ouvintes_mensais.csv', mode='a', header=False, index=False)"
      ],
      "metadata": {
        "colab": {
          "base_uri": "https://localhost:8080/"
        },
        "id": "dp3XidagCvhT",
        "outputId": "3046e39c-a095-4d93-f704-b073f420e3ee"
      },
      "execution_count": 54,
      "outputs": [
        {
          "output_type": "stream",
          "name": "stdout",
          "text": [
            "2024-10-17 14:42:27.754343 - Ouvintes mensais de Adrielle Vieira: 291\n"
          ]
        }
      ]
    },
    {
      "cell_type": "code",
      "source": [
        "import matplotlib.pyplot as plt\n",
        "\n",
        "# Carregar dados do CSV (substitua pelo caminho correto do seu arquivo)\n",
        "df = pd.read_csv('ouvintes_mensais.csv', names=['Data', 'Artista', 'Ouvintes Mensais'])\n",
        "\n",
        "# Converter a coluna 'Data' para datetime\n",
        "df['Data'] = pd.to_datetime(df['Data'], errors='coerce')\n",
        "\n",
        "# Remover linhas com datas inválidas\n",
        "df = df.dropna(subset=['Data'])\n",
        "\n",
        "# Filtrar dados para o ano passado (2023)\n",
        "ano_passado = df['Data'].dt.year == (pd.to_datetime('today').year - 1)\n",
        "df_ano_passado = df[ano_passado]\n",
        "\n",
        "# Verifica se existem dados para o ano passado\n",
        "if df_ano_passado.empty:\n",
        "    print(\"Nenhum dado encontrado para o ano passado.\")\n",
        "else:\n",
        "    # Agrupar por mês e somar ouvintes mensais\n",
        "    df_ano_passado['Mês'] = df_ano_passado['Data'].dt.to_period('M')\n",
        "    monthly_listeners = df_ano_passado.groupby('Mês')['Ouvintes Mensais'].sum().reset_index()\n",
        "\n",
        "    # Plotar gráfico\n",
        "    plt.figure(figsize=(10, 5))\n",
        "    plt.plot(monthly_listeners['Mês'].astype(str), monthly_listeners['Ouvintes Mensais'], marker='o')\n",
        "\n",
        "    # Usar o nome do artista presente no DataFrame se houver dados\n",
        "    artista_nome = df_ano_passado['Artista'].iloc[0] if not df_ano_passado.empty else \"Artista Desconhecido\"\n",
        "\n",
        "    plt.title(f'Ouvintes Mensais de {artista_nome} - Ano Passado')\n",
        "    plt.xlabel('Meses')\n",
        "    plt.ylabel('Número de Ouvintes Mensais')\n",
        "    plt.xticks(rotation=45)\n",
        "    plt.grid(axis='y')\n",
        "    plt.show()"
      ],
      "metadata": {
        "colab": {
          "base_uri": "https://localhost:8080/"
        },
        "id": "Ue3FBXyGKoZJ",
        "outputId": "2533ab7b-b860-4b8f-a8b7-c31e91b7b926"
      },
      "execution_count": 55,
      "outputs": [
        {
          "output_type": "stream",
          "name": "stdout",
          "text": [
            "Nenhum dado encontrado para o ano passado.\n"
          ]
        }
      ]
    },
    {
      "cell_type": "code",
      "source": [
        "import numpy as np\n",
        "\n",
        "media_popularidade = np.mean(track_popularity)\n",
        "print(f\"A média de popularidade das músicas é: {media_popularidade}\")"
      ],
      "metadata": {
        "id": "o5e9CiI07-bA",
        "outputId": "0a0ba2e4-e291-440f-8004-5538fc3ccaed",
        "colab": {
          "base_uri": "https://localhost:8080/"
        }
      },
      "execution_count": 64,
      "outputs": [
        {
          "output_type": "stream",
          "name": "stdout",
          "text": [
            "A média de popularidade das músicas é: 0.0\n"
          ]
        }
      ]
    },
    {
      "cell_type": "code",
      "source": [
        "media_popularidade = sum(track_popularity) / len(track_popularity)\n",
        "print(f\"A média de popularidade das músicas é: {media_popularidade}\")"
      ],
      "metadata": {
        "id": "zGzJ5_hm8qs2",
        "outputId": "15e4aec2-ddb8-4620-f975-ff3c5ab12e17",
        "colab": {
          "base_uri": "https://localhost:8080/"
        }
      },
      "execution_count": 65,
      "outputs": [
        {
          "output_type": "stream",
          "name": "stdout",
          "text": [
            "A média de popularidade das músicas é: 0.0\n"
          ]
        }
      ]
    },
    {
      "cell_type": "code",
      "source": [
        "track_names = [track['name'] for track in top_tracks['tracks']]\n",
        "track_popularity = [track['popularity'] for track in top_tracks['tracks']]\n",
        "\n",
        "# Criar o gráfico\n",
        "plt.figure(figsize=(10, 6))\n",
        "plt.barh(track_names, track_popularity, color='purple')\n",
        "plt.xlabel('Popularidade')\n",
        "plt.title('Top Tracks de ' + artist_name)  # Use o nome do artista que você obteve antes\n",
        "plt.show()"
      ],
      "metadata": {
        "colab": {
          "base_uri": "https://localhost:8080/",
          "height": 564
        },
        "id": "LQ9J29UpASor",
        "outputId": "fc579a95-95cc-43e8-88d8-ddc221061524"
      },
      "execution_count": 63,
      "outputs": [
        {
          "output_type": "display_data",
          "data": {
            "text/plain": [
              "<Figure size 1000x600 with 1 Axes>"
            ],
            "image/png": "[encoded data removed]"
          },
          "metadata": {}
        }
      ]
    },
    {
      "cell_type": "code",
      "source": [
        "track_names = [track['name'] for track in top_tracks['tracks']]\n",
        "track_popularity = [track['popularity'] for track in top_tracks['tracks']]\n",
        "\n",
        "# Verificar se os dados estão corretos\n",
        "print(\"Nomes das Músicas:\", track_names)\n",
        "print(\"Popularidade das Músicas:\", track_popularity)\n",
        "\n",
        "# Criar o gráfico\n",
        "plt.figure(figsize=(10, 6))\n",
        "plt.barh(track_names, track_popularity, color='purple')\n",
        "plt.xlabel('Popularidade')\n",
        "plt.title('Top Tracks de ' + artist_name)  # Use o nome do artista que você obteve antes\n",
        "plt.show()"
      ],
      "metadata": {
        "colab": {
          "base_uri": "https://localhost:8080/",
          "height": 600
        },
        "id": "aygXVSDZXWlW",
        "outputId": "3fd2d7d3-6895-48b0-d575-105fb4e91a30"
      },
      "execution_count": 57,
      "outputs": [
        {
          "output_type": "stream",
          "name": "stdout",
          "text": [
            "Nomes das Músicas: ['Gotham City', 'Kemet Baixada', 'Vagão', 'Clipe', 'Vai Descendo Comigo', 'Juntin', 'Resistência', 'Bença, Vó!']\n",
            "Popularidade das Músicas: [0, 0, 0, 0, 0, 0, 0, 0]\n"
          ]
        },
        {
          "output_type": "display_data",
          "data": {
            "text/plain": [
              "<Figure size 1000x600 with 1 Axes>"
            ],
            "image/png": "[encoded data removed]"
          },
          "metadata": {}
        }
      ]
    },
    {
      "cell_type": "code",
      "source": [
        "import requests\n",
        "import pandas as pd\n",
        "\n",
        "url = 'https://open.spotify.com/intl-pt/artist/27CgxvcVt6XHurgcoiRc6b?si=DKySXrVhSAaZPPmqbPC1og'\n",
        "response = requests.get(url)\n",
        "\n",
        "if response.status_code == 200:\n",
        "    try:\n",
        "        data = response.json()  # Tentar carregar como JSON\n",
        "        df_todos_singles = pd.DataFrame(data)\n",
        "        print(df_todos_singles.isnull().sum())\n",
        "    except requests.exceptions.JSONDecodeError:\n",
        "        print(\"Erro ao decodificar o JSON. Resposta da API não é válida.\")\n",
        "        print(response.text)  # Ver o que a API está retornando\n",
        "else:\n",
        "    print(f\"Erro na requisição: {response.status_code}\")"
      ],
      "metadata": {
        "id": "sSX5Jf7Y5spz",
        "outputId": "cac448ca-5fda-40d4-b55b-563c03f304ee",
        "colab": {
          "base_uri": "https://localhost:8080/"
        }
      },
      "execution_count": 33,
      "outputs": [
        {
          "output_type": "stream",
          "name": "stdout",
          "text": [
            "Erro ao decodificar o JSON. Resposta da API não é válida.\n",
            "<!doctype html><html class=\"mobile-web-player\" lang=\"en\" dir=\"ltr\"><head><meta charSet=\"utf-8\"/><title>Adrielle Vieira | Spotify</title><meta property=\"og:site_name\" content=\"Spotify\"/><meta property=\"fb:app_id\" content=\"174829003346\"/><link rel=\"icon\" sizes=\"32x32\" type=\"image/png\" href=\"https://open.spotifycdn.com/cdn/images/favicon32.b64ecc03.png\"/><link rel=\"icon\" sizes=\"16x16\" type=\"image/png\" href=\"https://open.spotifycdn.com/cdn/images/favicon16.1c487bff.png\"/><link rel=\"icon\" href=\"https://open.spotifycdn.com/cdn/images/favicon.0f31d2ea.ico\"/><meta http-equiv=\"X-UA-Compatible\" content=\"IE=9\"/><meta name=\"viewport\" content=\"width=device-width, initial-scale=1\"/><link rel=\"preload\" href=\"https://encore.scdn.co/fonts/SpotifyMixUI-Regular-cc3b1de388efa4cbca6c75cebc24585e.woff2\" as=\"font\" type=\"font/woff2\" crossorigin=\"anonymous\"/><link rel=\"preload\" href=\"https://encore.scdn.co/fonts/SpotifyMixUITitleVariable-8769ccfde3379b7ebcadd9529b49d0cc.woff2\" as=\"font\" type=\"font/woff2\" crossorigin=\"anonymous\"/><link rel=\"preload\" href=\"https://encore.scdn.co/fonts/SpotifyMixUITitle-Bold-37290f1de77f297fcc26d71e9afcf43f.woff2\" as=\"font\" type=\"font/woff2\" crossorigin=\"anonymous\"/><link rel=\"preload\" href=\"https://encore.scdn.co/fonts/SpotifyMixUI-Bold-4264b799009b1db5c491778b1bc8e5b7.woff2\" as=\"font\" type=\"font/woff2\" crossorigin=\"anonymous\"/><link rel=\"preload\" href=\"https://encore.scdn.co/fonts/SpotifyMixUITitleVariable-8769ccfde3379b7ebcadd9529b49d0cc.woff2\" as=\"font\" type=\"font/woff2\" crossorigin=\"anonymous\"/><link rel=\"preload\" href=\"https://encore.scdn.co/fonts/SpotifyMixUITitle-Extrabold-ba6c73cd7f82c81e49cf2204017803ed.woff2\" as=\"font\" type=\"font/woff2\" crossorigin=\"anonymous\"/><meta property=\"og:title\" content=\"Adrielle Vieira\"/><meta property=\"og:description\" content=\"Artist · 86 monthly listeners.\"/><meta property=\"og:url\" content=\"https://open.spotify.com/artist/27CgxvcVt6XHurgcoiRc6b\"/><meta property=\"og:type\" content=\"profile\"/><meta property=\"og:site_name\" content=\"Spotify\"/><meta property=\"og:image\" content=\"https://i.scdn.co/image/ab6761610000e5ebca31308d66a7e9d8d54747d1\"/><meta name=\"description\" content=\"Listen to Adrielle Vieira on Spotify. Artist · 86 monthly listeners.\"/><meta name=\"google\" content=\"notranslate\"/><meta name=\"al:android:app_name\" content=\"Spotify\"/><meta name=\"al:android:package\" content=\"com.spotify.music\"/><meta name=\"al:android:url\" content=\"spotify://artist/27CgxvcVt6XHurgcoiRc6b/?si=DKySXrVhSAaZPPmqbPC1og\"/><meta name=\"al:ios:app_name\" content=\"Spotify\"/><meta name=\"al:ios:app_store_id\" content=\"324684580\"/><meta name=\"al:ios:url\" content=\"spotify://artist/27CgxvcVt6XHurgcoiRc6b/?si=DKySXrVhSAaZPPmqbPC1og\"/><meta name=\"twitter:site\" content=\"@spotify\"/><meta name=\"twitter:title\" content=\"Adrielle Vieira\"/><meta name=\"twitter:description\" content=\"Artist · 86 monthly listeners.\"/><meta name=\"twitter:image\" content=\"https://i.scdn.co/image/ab6761610000e5ebca31308d66a7e9d8d54747d1\"/><meta name=\"twitter:card\" content=\"summary\"/><link rel=\"canonical\" href=\"https://open.spotify.com/artist/27CgxvcVt6XHurgcoiRc6b\"/><link rel=\"alternate\" type=\"application/json+oembed\" href=\"https://open.spotify.com/oembed?url=https%3A%2F%2Fopen.spotify.com%2Fartist%2F27CgxvcVt6XHurgcoiRc6b\"/><link rel=\"alternate\" href=\"https://open.spotify.com/artist/27CgxvcVt6XHurgcoiRc6b\" hrefLang=\"x-default\"/><link rel=\"alternate\" href=\"https://open.spotify.com/artist/27CgxvcVt6XHurgcoiRc6b\" hrefLang=\"en\"/><link rel=\"alternate\" href=\"https://open.spotify.com/intl-id/artist/27CgxvcVt6XHurgcoiRc6b\" hrefLang=\"id\"/><link rel=\"alternate\" href=\"https://open.spotify.com/intl-de/artist/27CgxvcVt6XHurgcoiRc6b\" hrefLang=\"de\"/><link rel=\"alternate\" href=\"https://open.spotify.com/intl-pt/artist/27CgxvcVt6XHurgcoiRc6b\" hrefLang=\"pt\"/><link rel=\"alternate\" href=\"https://open.spotify.com/intl-ja/artist/27CgxvcVt6XHurgcoiRc6b\" hrefLang=\"ja\"/><link rel=\"alternate\" href=\"https://open.spotify.com/intl-fr/artist/27CgxvcVt6XHurgcoiRc6b\" hrefLang=\"fr\"/><link rel=\"alternate\" href=\"https://open.spotify.com/intl-ar/artist/27CgxvcVt6XHurgcoiRc6b\" hrefLang=\"ar\"/><link rel=\"alternate\" href=\"https://open.spotify.com/intl-es/artist/27CgxvcVt6XHurgcoiRc6b\" hrefLang=\"es\"/><link rel=\"alternate\" href=\"https://open.spotify.com/intl-tr/artist/27CgxvcVt6XHurgcoiRc6b\" hrefLang=\"tr\"/><link rel=\"alternate\" href=\"https://open.spotify.com/intl-it/artist/27CgxvcVt6XHurgcoiRc6b\" hrefLang=\"it\"/><link rel=\"alternate\" href=\"android-app://com.spotify.music/spotify/artist/27CgxvcVt6XHurgcoiRc6b?si=DKySXrVhSAaZPPmqbPC1og\"/><script type=\"application/ld+json\">{\"@context\":\"http://schema.googleapis.com/\",\"@type\":\"MusicGroup\",\"@id\":\"https://open.spotify.com/artist/27CgxvcVt6XHurgcoiRc6b\",\"url\":\"https://open.spotify.com/artist/27CgxvcVt6XHurgcoiRc6b\",\"name\":\"Adrielle Vieira\",\"description\":\"Listen to Adrielle Vieira on Spotify. Artist \\u00B7 86 monthly listeners.\",\"datePublished\":null,\"potentialAction\":{\"@type\":\"ListenAction\",\"target\":[{\"@type\":\"EntryPoint\",\"urlTemplate\":\"https://open.spotify.com/artist/27CgxvcVt6XHurgcoiRc6b?autoplay=true\",\"actionPlatform\":[\"http://schema.org/DesktopWebPlatform\",\"http://schema.org/IOSPlatform\",\"http://schema.googleapis.com/GoogleAudioCast\",\"http://schema.googleapis.com/GoogleVideoCast\"]},\"android-app://com.spotify.music/spotify/artist/27CgxvcVt6XHurgcoiRc6b/play?si=DKySXrVhSAaZPPmqbPC1og\"],\"expectsAcceptanceOf\":{\"@type\":\"Offer\",\"category\":\"free\",\"eligibleRegion\":[]}}}</script><link rel=\"manifest\" href=\"https://open.spotifycdn.com/cdn/generated/manifest-mobile-web-player.a1ddf51c.json\"/><style data-styled=\"active\"></style><style data-styled=\"\" data-styled-version=\"5.3.11\">.bksmLQ{box-sizing:border-box;-webkit-tap-highlight-color:transparent;background-color:transparent;border:0;border-radius:var(--encore-button-corner-radius,9999px);cursor:pointer;display:inline-block;position:relative;text-align:center;-webkit-text-decoration:none;text-decoration:none;text-transform:none;touch-action:manipulation;-webkit-transition-duration:33ms;transition-duration:33ms;-webkit-transition-property:background-color,border-color,color,box-shadow,filter,-webkit-transform;-webkit-transition-property:background-color,border-color,color,box-shadow,filter,transform;transition-property:background-color,border-color,color,box-shadow,filter,transform;-webkit-user-select:none;-moz-user-select:none;-ms-user-select:none;user-select:none;vertical-align:middle;-webkit-transform:translate3d(0,0,0);-ms-transform:translate3d(0,0,0);transform:translate3d(0,0,0);color:var(--text-subdued,#656565);min-inline-size:0;min-block-size:var(--encore-control-size-base,48px);padding-block:var(--encore-spacing-tighter,12px);padding-inline:var(--encore-spacing-tighter,12px);display:-webkit-inline-box;display:-webkit-inline-flex;display:-ms-inline-flexbox;display:inline-flex;-webkit-align-items:center;-webkit-box-align:center;-ms-flex-align:center;align-items:center;-webkit-box-pack:center;-webkit-justify-content:center;-ms-flex-pack:center;justify-content:center;}/*!sc*/\n",
            "@supports (overflow-wrap:anywhere){.bksmLQ{overflow-wrap:anywhere;}}/*!sc*/\n",
            "@supports not (overflow-wrap:anywhere){.bksmLQ{word-break:break-word;}}/*!sc*/\n",
            ".bksmLQ:hover{-webkit-transform:scale(1.04);-ms-transform:scale(1.04);transform:scale(1.04);color:var(--text-base,#000000);}/*!sc*/\n",
            ".bksmLQ:active{opacity:0.7;outline:none;-webkit-transform:scale(1);-ms-transform:scale(1);transform:scale(1);color:var(--text-subdued,#656565);}/*!sc*/\n",
            ".bksmLQ::after{inline-size:24px;}/*!sc*/\n",
            ".bksmLQ[disabled],.bksmLQ[aria-disabled='true'],fieldset[disabled] .bksmLQ{cursor:not-allowed;opacity:0.3;-webkit-transform:scale(1);-ms-transform:scale(1);transform:scale(1);color:var(--text-subdued,#656565);}/*!sc*/\n",
            ".bksmLQ[disabled]::before,.bksmLQ[aria-disabled='true']::before,fieldset[disabled] .bksmLQ::before{background-color:transparent;}/*!sc*/\n",
            ".bksmLQ[disabled]::after,.bksmLQ[aria-disabled='true']::after,fieldset[disabled] .bksmLQ::after{border-color:transparent;}/*!sc*/\n",
            ".dvcGkf{box-sizing:border-box;-webkit-tap-highlight-color:transparent;background-color:transparent;border:0;border-radius:var(--encore-button-corner-radius,9999px);cursor:pointer;display:inline-block;position:relative;text-align:center;-webkit-text-decoration:none;text-decoration:none;text-transform:none;touch-action:manipulation;-webkit-transition-duration:33ms;transition-duration:33ms;-webkit-transition-property:background-color,border-color,color,box-shadow,filter,-webkit-transform;-webkit-transition-property:background-color,border-color,color,box-shadow,filter,transform;transition-property:background-color,border-color,color,box-shadow,filter,transform;-webkit-user-select:none;-moz-user-select:none;-ms-user-select:none;user-select:none;vertical-align:middle;-webkit-transform:translate3d(0,0,0);-ms-transform:translate3d(0,0,0);transform:translate3d(0,0,0);color:var(--text-base,#000000);min-inline-size:0;min-block-size:var(--encore-control-size-base,48px);padding-block:var(--encore-spacing-tighter,12px);padding-inline:0;display:-webkit-inline-box;display:-webkit-inline-flex;display:-ms-inline-flexbox;display:inline-flex;-webkit-align-items:center;-webkit-box-align:center;-ms-flex-align:center;align-items:center;-webkit-box-pack:center;-webkit-justify-content:center;-ms-flex-pack:center;justify-content:center;}/*!sc*/\n",
            "@supports (overflow-wrap:anywhere){.dvcGkf{overflow-wrap:anywhere;}}/*!sc*/\n",
            "@supports not (overflow-wrap:anywhere){.dvcGkf{word-break:break-word;}}/*!sc*/\n",
            ".dvcGkf:hover{-webkit-transform:scale(1.04);-ms-transform:scale(1.04);transform:scale(1.04);}/*!sc*/\n",
            ".dvcGkf:active{opacity:0.7;outline:none;-webkit-transform:scale(1);-ms-transform:scale(1);transform:scale(1);color:var(--text-base,#000000);}/*!sc*/\n",
            ".dvcGkf::after{inline-size:24px;}/*!sc*/\n",
            ".dvcGkf[disabled],.dvcGkf[aria-disabled='true'],fieldset[disabled] .dvcGkf{cursor:not-allowed;opacity:0.3;-webkit-transform:scale(1);-ms-transform:scale(1);transform:scale(1);color:var(--text-base,#000000);}/*!sc*/\n",
            ".dvcGkf[disabled]::before,.dvcGkf[aria-disabled='true']::before,fieldset[disabled] .dvcGkf::before{background-color:transparent;}/*!sc*/\n",
            ".dvcGkf[disabled]::after,.dvcGkf[aria-disabled='true']::after,fieldset[disabled] .dvcGkf::after{border-color:transparent;}/*!sc*/\n",
            ".kTFJuL{box-sizing:border-box;-webkit-tap-highlight-color:transparent;background-color:transparent;border:0;border-radius:var(--encore-button-corner-radius,9999px);cursor:pointer;display:inline-block;position:relative;text-align:center;-webkit-text-decoration:none;text-decoration:none;text-transform:none;touch-action:manipulation;-webkit-transition-duration:33ms;transition-duration:33ms;-webkit-transition-property:background-color,border-color,color,box-shadow,filter,-webkit-transform;-webkit-transition-property:background-color,border-color,color,box-shadow,filter,transform;transition-property:background-color,border-color,color,box-shadow,filter,transform;-webkit-user-select:none;-moz-user-select:none;-ms-user-select:none;user-select:none;vertical-align:middle;-webkit-transform:translate3d(0,0,0);-ms-transform:translate3d(0,0,0);transform:translate3d(0,0,0);color:var(--text-base,#000000);min-inline-size:0;padding:0;display:-webkit-inline-box;display:-webkit-inline-flex;display:-ms-inline-flexbox;display:inline-flex;-webkit-align-items:center;-webkit-box-align:center;-ms-flex-align:center;align-items:center;-webkit-box-pack:center;-webkit-justify-content:center;-ms-flex-pack:center;justify-content:center;}/*!sc*/\n",
            "@supports (overflow-wrap:anywhere){.kTFJuL{overflow-wrap:anywhere;}}/*!sc*/\n",
            "@supports not (overflow-wrap:anywhere){.kTFJuL{word-break:break-word;}}/*!sc*/\n",
            ".kTFJuL:hover{-webkit-transform:scale(1.04);-ms-transform:scale(1.04);transform:scale(1.04);}/*!sc*/\n",
            ".kTFJuL:active{opacity:0.7;outline:none;-webkit-transform:scale(1);-ms-transform:scale(1);transform:scale(1);color:var(--text-base,#000000);}/*!sc*/\n",
            ".kTFJuL::after{inline-size:100%;}/*!sc*/\n",
            ".kTFJuL[disabled],.kTFJuL[aria-disabled='true'],fieldset[disabled] .kTFJuL{cursor:not-allowed;opacity:0.3;-webkit-transform:scale(1);-ms-transform:scale(1);transform:scale(1);color:var(--text-base,#000000);}/*!sc*/\n",
            ".kTFJuL[disabled]::before,.kTFJuL[aria-disabled='true']::before,fieldset[disabled] .kTFJuL::before{background-color:transparent;}/*!sc*/\n",
            ".kTFJuL[disabled]::after,.kTFJuL[aria-disabled='true']::after,fieldset[disabled] .kTFJuL::after{border-color:transparent;}/*!sc*/\n",
            "data-styled.g2[id=\"Button-sc-1dqy6lx-0\"]{content:\"bksmLQ,dvcGkf,kTFJuL,\"}/*!sc*/\n",
            ".hYdsxw{display:-webkit-box;display:-webkit-flex;display:-ms-flexbox;display:flex;}/*!sc*/\n",
            "data-styled.g3[id=\"IconWrapper__Wrapper-sc-16usrgb-0\"]{content:\"hYdsxw,\"}/*!sc*/\n",
            ".bneLcE{fill:currentcolor;width:var(--encore-graphic-size-decorative-base,24px);height:var(--encore-graphic-size-decorative-base,24px);}/*!sc*/\n",
            ".bneLcE *{vector-effect:non-scaling-stroke;}/*!sc*/\n",
            "data-styled.g4[id=\"Svg-sc-ytk21e-0\"]{content:\"bneLcE,\"}/*!sc*/\n",
            ".hKFGwn{box-sizing:border-box;-webkit-tap-highlight-color:transparent;position:relative;background-color:var(--background-base,#1ed760);color:var(--text-base,#000000);display:-webkit-box;display:-webkit-flex;display:-ms-flexbox;display:flex;border-radius:var(--encore-button-corner-radius,9999px);font-size:inherit;min-block-size:var(--encore-control-size-larger,56px);-webkit-align-items:center;-webkit-box-align:center;-ms-flex-align:center;align-items:center;-webkit-box-pack:center;-webkit-justify-content:center;-ms-flex-pack:center;justify-content:center;inline-size:var(--encore-control-size-larger,56px);-webkit-block-size:var(--encore-control-size-larger,56px);-ms-flex-block-size:var(--encore-control-size-larger,56px);block-size:var(--encore-control-size-larger,56px);-webkit-transition-property:background-color,-webkit-transform;-webkit-transition-property:background-color,transform;transition-property:background-color,transform;-webkit-transition-duration:33ms;transition-duration:33ms;}/*!sc*/\n",
            "@supports (overflow-wrap:anywhere){.hKFGwn{overflow-wrap:anywhere;}}/*!sc*/\n",
            "@supports not (overflow-wrap:anywhere){.hKFGwn{word-break:break-word;}}/*!sc*/\n",
            "data-styled.g6[id=\"ButtonInner-sc-14ud5tc-0\"]{content:\"hKFGwn,\"}/*!sc*/\n",
            ".dlTJiR{box-sizing:border-box;-webkit-tap-highlight-color:transparent;background-color:transparent;border:0;border-radius:var(--encore-button-corner-radius,9999px);cursor:pointer;display:inline-block;position:relative;text-align:center;-webkit-text-decoration:none;text-decoration:none;text-transform:none;touch-action:manipulation;-webkit-transition-duration:33ms;transition-duration:33ms;-webkit-transition-property:background-color,border-color,color,box-shadow,filter,-webkit-transform;-webkit-transition-property:background-color,border-color,color,box-shadow,filter,transform;transition-property:background-color,border-color,color,box-shadow,filter,transform;-webkit-user-select:none;-moz-user-select:none;-ms-user-select:none;user-select:none;vertical-align:middle;-webkit-transform:translate3d(0,0,0);-ms-transform:translate3d(0,0,0);transform:translate3d(0,0,0);padding:0;min-inline-size:0;-webkit-align-self:center;-ms-flex-item-align:center;align-self:center;}/*!sc*/\n",
            ".dlTJiR:hover .ButtonInner-sc-14ud5tc-0,.dlTJiR:hover .ButtonFocus-sc-2hq6ey-0{-webkit-transform:scale(1.04);-ms-transform:scale(1.04);transform:scale(1.04);}/*!sc*/\n",
            ".dlTJiR:hover .ButtonInner-sc-14ud5tc-0{background-color:var(--background-highlight,#3be477);}/*!sc*/\n",
            ".dlTJiR:active .ButtonInner-sc-14ud5tc-0{background-color:var(--background-press,#1abc54);box-shadow:none;-webkit-transform:scale(1);-ms-transform:scale(1);transform:scale(1);}/*!sc*/\n",
            ".dlTJiR:active .ButtonFocus-sc-2hq6ey-0{-webkit-transform:scale(1);-ms-transform:scale(1);transform:scale(1);}/*!sc*/\n",
            ".dlTJiR:focus .ButtonFocus-sc-2hq6ey-0{border-color:var(--parents-essential-base,var(--essential-base,#000000));}/*!sc*/\n",
            ".dlTJiR[disabled] .ButtonInner-sc-14ud5tc-0,.dlTJiR[aria-disabled='true'] .ButtonInner-sc-14ud5tc-0,fieldset[disabled] .dlTJiR .ButtonInner-sc-14ud5tc-0{cursor:not-allowed;opacity:0.3;-webkit-transform:scale(1);-ms-transform:scale(1);transform:scale(1);background-color:var(--background-base,#1ed760);color:var(--text-base,#000000);}/*!sc*/\n",
            ".dlTJiR[disabled] .ButtonFocus-sc-2hq6ey-0,.dlTJiR[aria-disabled='true'] .ButtonFocus-sc-2hq6ey-0,fieldset[disabled] .dlTJiR .ButtonFocus-sc-2hq6ey-0{border-color:transparent;}/*!sc*/\n",
            "data-styled.g7[id=\"Button-sc-qlcn5g-0\"]{content:\"dlTJiR,\"}/*!sc*/\n",
            ".cNvoOe{display:-webkit-box;display:-webkit-flex;display:-ms-flexbox;display:flex;position:absolute;top:calc((var(--encore-control-size-larger,56px) - var(--encore-graphic-size-decorative-base,24px)) / 2);left:calc((var(--encore-control-size-larger,56px) - var(--encore-graphic-size-decorative-base,24px)) / 2);}/*!sc*/\n",
            "[dir='rtl'] .cNvoOe.cNvoOe{right:calc((var(--encore-control-size-larger,56px) - var(--encore-graphic-size-decorative-base,24px)) / 2);left:auto;}/*!sc*/\n",
            "data-styled.g8[id=\"IconWrapper__Wrapper-sc-1hf1hjl-0\"]{content:\"cNvoOe,\"}/*!sc*/\n",
            "@supports (overflow-wrap:anywhere){.hxCObm{overflow-wrap:anywhere;}}/*!sc*/\n",
            "@supports not (overflow-wrap:anywhere){.hxCObm{word-break:break-word;}}/*!sc*/\n",
            "data-styled.g10[id=\"ListRowDetails__ListRowDetailText-sc-sozu4l-0\"]{content:\"hxCObm,\"}/*!sc*/\n",
            ".cfDfKU{inline-size:var(--encore-graphic-size-decorative-larger-3,48px);-webkit-block-size:var(--encore-graphic-size-decorative-larger-3,48px);-ms-flex-block-size:var(--encore-graphic-size-decorative-larger-3,48px);block-size:var(--encore-graphic-size-decorative-larger-3,48px);border-radius:var(--encore-corner-radius-base,4px);}/*!sc*/\n",
            "data-styled.g15[id=\"Image-sc-1u215sg-3\"]{content:\"cfDfKU,\"}/*!sc*/\n",
            ".ctMhZp{-webkit-flex-shrink:0;-ms-flex-negative:0;flex-shrink:0;object-fit:cover;}/*!sc*/\n",
            "data-styled.g17[id=\"ListRowImage__ListRowImageComponent-sc-1uaxq9n-0\"]{content:\"ctMhZp,\"}/*!sc*/\n",
            ".jjpOuK{display:-webkit-box;-webkit-line-clamp:1;-webkit-box-orient:vertical;overflow:hidden;}/*!sc*/\n",
            "data-styled.g19[id=\"ListRowTitle__LineClamp-sc-1xe2if1-0\"]{content:\"jjpOuK,\"}/*!sc*/\n",
            ".eFGzcP{outline:none;-webkit-text-decoration:none;text-decoration:none;}/*!sc*/\n",
            "@supports (overflow-wrap:anywhere){.eFGzcP{overflow-wrap:anywhere;}}/*!sc*/\n",
            "@supports not (overflow-wrap:anywhere){.eFGzcP{word-break:break-word;}}/*!sc*/\n",
            "data-styled.g20[id=\"ListRowTitle__ListRowText-sc-1xe2if1-1\"]{content:\"eFGzcP,\"}/*!sc*/\n",
            ".bJSfgC button,.bJSfgC a,.bJSfgC [role='button'],.bJSfgC [role='link']{position:relative;z-index:1;}/*!sc*/\n",
            "data-styled.g21[id=\"Areas__InteractiveArea-sc-8gfrea-0\"]{content:\"bJSfgC,\"}/*!sc*/\n",
            ".ljvfQS{grid-column:1;gap:var(--encore-spacing-base,16px);}/*!sc*/\n",
            "data-styled.g22[id=\"Areas__HeaderSideArea-sc-8gfrea-1\"]{content:\"ljvfQS,\"}/*!sc*/\n",
            ".hvZiQp{display:-webkit-box;display:-webkit-flex;display:-ms-flexbox;display:flex;gap:var(--encore-spacing-tighter,12px);-webkit-align-items:center;-webkit-box-align:center;-ms-flex-align:center;align-items:center;height:100%;}/*!sc*/\n",
            "data-styled.g23[id=\"Areas__HeaderSideAreaFlexContainer-sc-8gfrea-2\"]{content:\"hvZiQp,\"}/*!sc*/\n",
            ".TJKQw{grid-column-end:-1;gap:var(--encore-spacing-tighter,12px);-webkit-align-items:center;-webkit-box-align:center;-ms-flex-align:center;align-items:center;display:-webkit-box;display:-webkit-flex;display:-ms-flexbox;display:flex;-webkit-box-pack:justify;-webkit-justify-content:space-between;-ms-flex-pack:justify;justify-content:space-between;}/*!sc*/\n",
            "data-styled.g24[id=\"Areas__HeaderArea-sc-8gfrea-3\"]{content:\"TJKQw,\"}/*!sc*/\n",
            ".jwUvtM{display:-webkit-box;display:-webkit-flex;display:-ms-flexbox;display:flex;-webkit-flex-direction:column;-ms-flex-direction:column;flex-direction:column;gap:2px;-webkit-align-items:flex-start;-webkit-box-align:flex-start;-ms-flex-align:flex-start;align-items:flex-start;}/*!sc*/\n",
            "data-styled.g26[id=\"Areas__Column-sc-8gfrea-5\"]{content:\"jwUvtM,\"}/*!sc*/\n",
            ".jpzxju{-webkit-flex-shrink:0;-ms-flex-negative:0;flex-shrink:0;-webkit-align-self:stretch;-ms-flex-item-align:stretch;align-self:stretch;display:-webkit-box;display:-webkit-flex;display:-ms-flexbox;display:flex;-webkit-align-items:center;-webkit-box-align:center;-ms-flex-align:center;align-items:center;}/*!sc*/\n",
            "data-styled.g28[id=\"Areas__TrailingSlot-sc-8gfrea-7\"]{content:\"jpzxju,\"}/*!sc*/\n",
            ".euQtut{box-sizing:border-box;-webkit-tap-highlight-color:transparent;position:relative;border-radius:0;min-block-size:56px;z-index:0;color:var(--text-base,#000000);padding-block-start:8px;padding-block-end:8px;padding-inline-start:var(--encore-spacing-tighter,12px);padding-inline-end:var(--encore-spacing-tighter,12px);--animation-speed:300ms;--animation-ease:ease;--bg-inset-change-press:-4px;cursor:pointer;}/*!sc*/\n",
            ".euQtut::after{content:'';position:absolute;border-radius:0;z-index:-1;-webkit-transition:background-color var(--animation-speed) var(--animation-ease),top var(--animation-speed) var(--animation-ease),left var(--animation-speed) var(--animation-ease),right var(--animation-speed) var(--animation-ease),bottom var(--animation-speed) var(--animation-ease);transition:background-color var(--animation-speed) var(--animation-ease),top var(--animation-speed) var(--animation-ease),left var(--animation-speed) var(--animation-ease),right var(--animation-speed) var(--animation-ease),bottom var(--animation-speed) var(--animation-ease);inset:0px 0px 0px 0px;inset:8px var(--encore-spacing-tighter,12px) 8px var(--encore-spacing-tighter,12px);}/*!sc*/\n",
            "[dir='rtl'] .Box__BoxComponent-sc-y4nds-0::after{inset:0px 0px 0px 0px;}/*!sc*/\n",
            ".euQtut[disabled],.euQtut[aria-disabled='true'],fieldset[disabled] .euQtut{cursor:not-allowed;opacity:0.3;-webkit-transform:scale(1);-ms-transform:scale(1);transform:scale(1);}/*!sc*/\n",
            ".euQtut:hover::after{background-color:var(--background-highlight,#f0f0f0);inset:0px 0px 0px 0px;}/*!sc*/\n",
            ".euQtut[disabled]:hover::after,.euQtut[aria-disabled='true']:hover::after{background-color:unset;}/*!sc*/\n",
            ".euQtut[disabled]:active::after,.euQtut[aria-disabled='true']:active::after{background-color:unset;-webkit-inset:unset unset unset unset;-ms-inset:unset unset unset unset;inset:unset unset unset unset;}/*!sc*/\n",
            "data-styled.g29[id=\"Box__BoxComponent-sc-y4nds-0\"]{content:\"euQtut,\"}/*!sc*/\n",
            ".iDqitu{display:grid;grid-gap:var(--encore-spacing-tighter-2,8px) var(--encore-spacing-tighter,12px);grid-template-columns:auto 1fr;grid-auto-rows:auto 1fr auto;margin-inline:calc(-1 * var(--encore-spacing-tighter,12px));}/*!sc*/\n",
            ".iDqitu[disabled]{opacity:0.7;}/*!sc*/\n",
            "data-styled.g30[id=\"Box-sc-8t9c76-0\"]{content:\"iDqitu,\"}/*!sc*/\n",
            ".fMBnBN{position:absolute;z-index:0;inset:0;cursor:pointer;}/*!sc*/\n",
            "data-styled.g32[id=\"RowMouseLink-sc-hvecl1-0\"]{content:\"fMBnBN,\"}/*!sc*/\n",
            ".jNlLIA{box-sizing:border-box;-webkit-tap-highlight-color:transparent;background-color:transparent;border:0;border-radius:var(--encore-button-corner-radius,9999px);cursor:pointer;display:inline-block;position:relative;text-align:center;-webkit-text-decoration:none;text-decoration:none;text-transform:none;touch-action:manipulation;-webkit-transition-duration:33ms;transition-duration:33ms;-webkit-transition-property:background-color,border-color,color,box-shadow,filter,-webkit-transform;-webkit-transition-property:background-color,border-color,color,box-shadow,filter,transform;transition-property:background-color,border-color,color,box-shadow,filter,transform;-webkit-user-select:none;-moz-user-select:none;-ms-user-select:none;user-select:none;vertical-align:middle;-webkit-transform:translate3d(0,0,0);-ms-transform:translate3d(0,0,0);transform:translate3d(0,0,0);padding-block:calc(var(--encore-spacing-tighter-4,4px) - 1px);padding-inline:calc(var(--encore-spacing-base,16px) - 1px);border:1px solid var(--essential-subdued,#818181);color:var(--text-base,#000000);min-inline-size:0;min-block-size:var(--encore-control-size-smaller,32px);display:-webkit-inline-box;display:-webkit-inline-flex;display:-ms-inline-flexbox;display:inline-flex;-webkit-align-items:center;-webkit-box-align:center;-ms-flex-align:center;align-items:center;-webkit-box-pack:center;-webkit-justify-content:center;-ms-flex-pack:center;justify-content:center;}/*!sc*/\n",
            "@supports (overflow-wrap:anywhere){.jNlLIA{overflow-wrap:anywhere;}}/*!sc*/\n",
            "@supports not (overflow-wrap:anywhere){.jNlLIA{word-break:break-word;}}/*!sc*/\n",
            ".jNlLIA:hover{-webkit-transform:scale(1.04);-ms-transform:scale(1.04);transform:scale(1.04);border:1px solid var(--essential-base,#000000);}/*!sc*/\n",
            ".jNlLIA:active{opacity:0.7;outline:none;-webkit-transform:scale(1);-ms-transform:scale(1);transform:scale(1);border:1px solid var(--essential-subdued,#818181);}/*!sc*/\n",
            ".jNlLIA[disabled],.jNlLIA[aria-disabled='true'],fieldset[disabled] .jNlLIA{cursor:not-allowed;opacity:0.3;-webkit-transform:scale(1);-ms-transform:scale(1);transform:scale(1);border-color:var(--essential-subdued,#818181);}/*!sc*/\n",
            ".jNlLIA[disabled]::after,.jNlLIA[aria-disabled='true']::after,fieldset[disabled] .jNlLIA::after{border-color:transparent;}/*!sc*/\n",
            "data-styled.g46[id=\"Button-sc-y0gtbx-0\"]{content:\"jNlLIA,\"}/*!sc*/\n",
            ".gPhSUm{box-sizing:border-box;-webkit-tap-highlight-color:transparent;border:0;border-block-start:1px solid var(--decorative-subdued,#dedede);margin-block:var(--encore-spacing-looser,24px);}/*!sc*/\n",
            "data-styled.g48[id=\"HorizontalRule__HorizontalRuleElement-sc-198gjx4-0\"]{content:\"gPhSUm,\"}/*!sc*/\n",
            "</style><link rel=\"stylesheet\" href=\"https://open.spotifycdn.com/cdn/build/mobile-web-player/mwp-dialog-container.54d58d48.css\"/><link rel=\"stylesheet\" href=\"https://open.spotifycdn.com/cdn/build/mobile-web-player/mwp-context-menu-container.3c9d5013.css\"/><link rel=\"stylesheet\" href=\"https://open.spotifycdn.com/cdn/build/mobile-web-player/mwp-connect-view-container.0b38c2e8.css\"/><link rel=\"stylesheet\" href=\"https://open.spotifycdn.com/cdn/build/mobile-web-player/mwp-now-playing-view.53e2e4c4.css\"/><link rel=\"stylesheet\" href=\"https://open.spotifycdn.com/cdn/build/mobile-web-player/mwp-home-page.c1e149d6.css\"/><link rel=\"stylesheet\" href=\"https://open.spotifycdn.com/cdn/build/mobile-web-player/mwp-artist-page.30696824.css\"/><link rel=\"stylesheet\" href=\"https://open.spotifycdn.com/cdn/build/mobile-web-player/mwp-user-profile.c8b587a8.css\"/><link rel=\"stylesheet\" href=\"https://open.spotifycdn.com/cdn/build/mobile-web-player/mobile-web-player.f537a80d.css\"/><link rel=\"preconnect\" href=\"https://apresolve.spotify.com\" crossorigin=\"anonymous\"/><link rel=\"preconnect\" href=\"https://clienttoken.spotify.com\" crossorigin=\"anonymous\"/><link rel=\"preconnect\" href=\"https://api-partner.spotify.com\" crossorigin=\"anonymous\"/><link rel=\"preconnect\" href=\"https://spclient.wg.spotify.com\" crossorigin=\"anonymous\"/><link rel=\"preconnect\" href=\"https://api.spotify.com\" crossorigin=\"anonymous\"/><link rel=\"preconnect\" href=\"https://daily-mix.scdn.co\" crossorigin=\"anonymous\"/><link rel=\"preconnect\" href=\"https://exp.wg.spotify.com\" crossorigin=\"anonymous\"/><link rel=\"preconnect\" href=\"https://i.scdn.co\" crossorigin=\"anonymous\"/><link rel=\"preconnect\" href=\"https://lineup-images.scdn.co\" crossorigin=\"anonymous\"/><link rel=\"preconnect\" href=\"https://mosaic.scdn.co\" crossorigin=\"anonymous\"/><link rel=\"preconnect\" href=\"https://open.spotifycdn.com\" crossorigin=\"anonymous\"/><link rel=\"preconnect\" href=\"https://pixel-static.spotify.com\" crossorigin=\"anonymous\"/><link rel=\"preconnect\" href=\"https://pixel.spotify.com\" crossorigin=\"anonymous\"/><link rel=\"preconnect\" href=\"https://pl.scdn.co\" crossorigin=\"anonymous\"/><link rel=\"preconnect\" href=\"https://open.spotifycdn.com\" crossorigin=\"anonymous\"/><link rel=\"preconnect\" href=\"https://gae2-dealer.spotify.com\" crossorigin=\"anonymous\"/><link rel=\"preconnect\" href=\"https://gae2-spclient.spotify.com\" crossorigin=\"anonymous\"/><link rel=\"preload\" href=\"https://open.spotifycdn.com/cdn/generated-locales/mobile-web-player/en.b57bd8f1.json\" data-translations-url-for-locale=\"en\" as=\"fetch\" crossorigin=\"anonymous\" type=\"application/json\"/><link rel=\"search\" type=\"application/opensearchdescription+xml\" title=\"Spotify\" href=\"https://open.spotifycdn.com/cdn/generated/opensearch.4cd8879e.xml\"/><script defer=\"\" src=\"https://www.googleoptimize.com/optimize.js?id=GTM-W53X654\"></script><script defer=\"\" src=\"https://open.spotifycdn.com/cdn/js/gtm.ea4c34bc.js\"></script><script defer=\"\" src=\"https://open.spotifycdn.com/cdn/js/retargeting-pixels.5ab9cdc0.js\"></script></head><body class=\"mobile-web-player\"><script id=\"config\" data-testid=\"config\" type=\"application/json\">{\"appName\":\"web_player_prototype\",\"market\":\"TW\",\"locale\":{\"locale\":\"en\",\"rtl\":false,\"textDirection\":\"ltr\"},\"isPremium\":false,\"correlationId\":\"e0be0a6b5a2f2322d3b59ff31e2ec498\",\"isAnonymous\":true,\"gtmId\":\"GTM-PZHN3VD\",\"optimizeId\":\"GTM-W53X654\",\"pipResources\":{\"scripts\":[\"https://open.spotifycdn.com/cdn/build/web-player/vendor~web-player.f99f1a34.js\",\"https://open.spotifycdn.com/cdn/build/web-player/pip-mini-player.0012bdd1.js\"],\"styles\":[\"https://open.spotifycdn.com/cdn/build/web-player/pip-mini-player.ca8f6869.css\"]},\"retargetingPixels\":null,\"recaptchaWebPlayerFraudSiteKey\":\"6LfCVLAUAAAAALFwwRnnCJ12DalriUGbj8FW_J39\"}</script><script id=\"session\" data-testid=\"session\" type=\"application/json\">{\"accessToken\":\"BQCvEvSL5yhWGnXbPwLeRIpmDQCibcDqLNLqQj__j0rU4hvrG7SM7cRBSp4SDrvl-MBJu9MwNRmnzxS5nkl54uxwB6KEeiuB5HdbHdr3o4f1I859fDA\",\"accessTokenExpirationTimestampMs\":1729179024465,\"isAnonymous\":true,\"clientId\":\"f6a40776580943a7bc5173125a1e8832\"}</script><div id=\"main\" data-ssr=\"1\"><div class=\"encore-layout-themes\"><div class=\"ufy3rNNsNBx6IOixSXEG\"><div class=\"encore-dark-theme xXxkvFpB54Fne7ykRnXa\" data-main-scrollable-node=\"true\"><div class=\"Cv2QMWaKhio30Ly6ooMy\"><div class=\"SAvutxFsWpINsq8pSOqb\" style=\"--bottomMargin:0px\"><!--$--><div data-testid=\"artist-entity-view\" class=\"E34FrewmewkuBM1IDQsg\"><div class=\"M2zTPqWSULZAGKARgjXG\" style=\"background:linear-gradient(#C80020 0%, transparent 100%)\"><div data-testid=\"entity-image\" style=\"opacity:1\" class=\"_9oqBtpu3TVycIiibYRVw TPh_mzbK3mlMyMryy12A\"><img aria-hidden=\"false\" draggable=\"false\" loading=\"eager\" src=\"https://i.scdn.co/image/ab67616100005174ca31308d66a7e9d8d54747d1\" data-testid=\"artist-entity-image\" alt=\"\" class=\"mMx2LUixlnN_Fu45JpFB\"/></div><h1 class=\"encore-text encore-text-title-medium gj6rSoF7K4FohS2DJDEm\" data-encore-id=\"text\">Adrielle Vieira</h1><div class=\"kVj4O1X1hlTwIyajGjJb\" data-testid=\"entity-bottom-section\"><div class=\"encore-text encore-text-body-small sMT6JaxLhI2QLVSevX_3 fjP8GyQyM5IWQvTxWk6W\" data-encore-id=\"text\" data-testid=\"monthly-listeners-label\">86 monthly listeners</div><div class=\"encore-text encore-text-body-small jXbmfyIkvfBoDgVxAaDD\" data-encore-id=\"text\"><button data-testid=\"follow-button\" class=\"Button-sc-y0gtbx-0 jNlLIA encore-text-body-small-bold R5fMtsPIxtayowI7z8tA\" data-encore-id=\"buttonSecondary\">Follow</button><button data-testid=\"entity-share-button\" class=\"Button-sc-1dqy6lx-0 bksmLQ\" aria-label=\"Share\" data-encore-id=\"buttonTertiary\"><span aria-hidden=\"true\" class=\"IconWrapper__Wrapper-sc-16usrgb-0 hYdsxw\"><svg data-encore-id=\"icon\" role=\"img\" aria-hidden=\"true\" viewBox=\"0 0 24 24\" class=\"Svg-sc-ytk21e-0 bneLcE\"><path d='M18.5 4a1.5 1.5 0 1 0 0 3 1.5 1.5 0 0 0 0-3zM15 5.5a3.5 3.5 0 1 1 1.006 2.455L9 12l7.006 4.045a3.5 3.5 0 1 1-.938 1.768l-6.67-3.85a3.5 3.5 0 1 1 0-3.924l6.67-3.852A3.513 3.513 0 0 1 15 5.5zm-9.5 5a1.5 1.5 0 1 0 0 3 1.5 1.5 0 0 0 0-3zm13 6.5a1.5 1.5 0 1 0-.001 3 1.5 1.5 0 0 0 .001-3z'/></svg></span></button><button class=\"Button-sc-1dqy6lx-0 bksmLQ\" aria-label=\"More\" data-encore-id=\"buttonTertiary\"><span aria-hidden=\"true\" class=\"IconWrapper__Wrapper-sc-16usrgb-0 hYdsxw\"><svg data-encore-id=\"icon\" role=\"img\" aria-hidden=\"true\" viewBox=\"0 0 24 24\" class=\"Svg-sc-ytk21e-0 bneLcE\"><path d='M10.5 4.5a1.5 1.5 0 1 0 3 0 1.5 1.5 0 0 0-3 0zm0 15a1.5 1.5 0 1 0 3 0 1.5 1.5 0 0 0-3 0zm0-7.5a1.5 1.5 0 1 0 3 0 1.5 1.5 0 0 0-3 0z'/></svg></span></button></div><div class=\"encore-text encore-text-body-small ZHjbpDQJimn7TrEg5NRa\" data-encore-id=\"text\"><div class=\"KLdvTULHpZ_WiyOPzi0I\"><div class=\"ilFQxSwAuKW7R9upfQxi\"><button data-testid=\"play-button\" aria-label=\"Play\" data-encore-id=\"buttonPrimary\" data-is-icon-only=\"true\" class=\"Button-sc-qlcn5g-0 dlTJiR\"><span class=\"ButtonInner-sc-14ud5tc-0 hKFGwn encore-bright-accent-set\"><span aria-hidden=\"true\" class=\"IconWrapper__Wrapper-sc-1hf1hjl-0 cNvoOe\"><svg data-encore-id=\"icon\" role=\"img\" aria-hidden=\"true\" viewBox=\"0 0 24 24\" class=\"Svg-sc-ytk21e-0 bneLcE\"><path d='m7.05 3.606 13.49 7.788a.7.7 0 0 1 0 1.212L7.05 20.394A.7.7 0 0 1 6 19.788V4.212a.7.7 0 0 1 1.05-.606z'/></svg></span></span></button></div></div></div></div></div><div class=\"AXLhOsSjT3bowfjf42kK\"><div class=\"C2MjArpiN8ykwiKsAriF\"><div><span class=\"encore-text encore-text-body-medium-bold\" data-encore-id=\"text\">Popular</span><div><div class=\"Box__BoxComponent-sc-y4nds-0 euQtut Box-sc-8t9c76-0 iDqitu\" data-encore-id=\"listRow\" role=\"group\" aria-labelledby=\"listrow-title-track-spotify:track:5RBta7CVs91HMq5fkGV8VN-0\" aria-label=\"Gotham City\" data-testid=\"track-row\"><div data-testid=\"mouse-only-link\" class=\"RowMouseLink-sc-hvecl1-0 fMBnBN\"></div><div style=\"display:none\" id=\"onClickHinttrack-spotify:track:5RBta7CVs91HMq5fkGV8VN-0\"></div><div class=\"Areas__HeaderSideArea-sc-8gfrea-1 ljvfQS\"><div class=\"Areas__HeaderSideAreaFlexContainer-sc-8gfrea-2 hvZiQp\"><img alt=\"\" src=\"https://i.scdn.co/image/ab67616d0000485169959bd81f7ba1a63c490110\" class=\"Image-sc-1u215sg-3 cfDfKU ListRowImage__ListRowImageComponent-sc-1uaxq9n-0 ctMhZp\" data-encore-id=\"image\"/></div></div><div class=\"Areas__HeaderArea-sc-8gfrea-3 TJKQw\"><div class=\"Areas__InteractiveArea-sc-8gfrea-0 Areas__Column-sc-8gfrea-5 bJSfgC jwUvtM\"><span class=\"UyQiaNpRWAFeZAEKh6vP\"><p class=\"encore-text encore-text-body-medium ListRowTitle__ListRowText-sc-1xe2if1-1 eFGzcP\" data-encore-id=\"listRowTitle\" id=\"listrow-title-track-spotify:track:5RBta7CVs91HMq5fkGV8VN-0\"><span class=\"ListRowTitle__LineClamp-sc-1xe2if1-0 jjpOuK\">Gotham City</span></p></span><p class=\"encore-text encore-text-body-small encore-internal-color-text-subdued ListRowDetails__ListRowDetailText-sc-sozu4l-0 hxCObm\" data-encore-id=\"listRowSubtitle\" id=\"listrow-subtitle-track-spotify:track:5RBta7CVs91HMq5fkGV8VN-0\">3,111</p></div><div class=\"Areas__InteractiveArea-sc-8gfrea-0 Areas__TrailingSlot-sc-8gfrea-7 bJSfgC jpzxju\"><div class=\"JmAAOV57nqLdnvqrbcqb\"><button data-testid=\"context-menu-action-button\" class=\"Button-sc-1dqy6lx-0 dvcGkf BfiNtGPhVtNLQfLL8FSg\" aria-label=\"More\" data-encore-id=\"buttonTertiary\"><span aria-hidden=\"true\" class=\"IconWrapper__Wrapper-sc-16usrgb-0 hYdsxw\"><svg data-encore-id=\"icon\" role=\"img\" aria-hidden=\"true\" viewBox=\"0 0 24 24\" class=\"Svg-sc-ytk21e-0 bneLcE\"><path d='M10.5 4.5a1.5 1.5 0 1 0 3 0 1.5 1.5 0 0 0-3 0zm0 15a1.5 1.5 0 1 0 3 0 1.5 1.5 0 0 0-3 0zm0-7.5a1.5 1.5 0 1 0 3 0 1.5 1.5 0 0 0-3 0z'/></svg></span></button></div></div></div></div><div class=\"Box__BoxComponent-sc-y4nds-0 euQtut Box-sc-8t9c76-0 iDqitu\" data-encore-id=\"listRow\" role=\"group\" aria-labelledby=\"listrow-title-track-spotify:track:77ZWXJ3aBVrbeJGAxJCvUz-1\" aria-label=\"Kemet Baixada\" data-testid=\"track-row\"><div data-testid=\"mouse-only-link\" class=\"RowMouseLink-sc-hvecl1-0 fMBnBN\"></div><div style=\"display:none\" id=\"onClickHinttrack-spotify:track:77ZWXJ3aBVrbeJGAxJCvUz-1\"></div><div class=\"Areas__HeaderSideArea-sc-8gfrea-1 ljvfQS\"><div class=\"Areas__HeaderSideAreaFlexContainer-sc-8gfrea-2 hvZiQp\"><img alt=\"\" src=\"https://i.scdn.co/image/ab67616d00004851b272d89346dff90f41684e8f\" class=\"Image-sc-1u215sg-3 cfDfKU ListRowImage__ListRowImageComponent-sc-1uaxq9n-0 ctMhZp\" data-encore-id=\"image\"/></div></div><div class=\"Areas__HeaderArea-sc-8gfrea-3 TJKQw\"><div class=\"Areas__InteractiveArea-sc-8gfrea-0 Areas__Column-sc-8gfrea-5 bJSfgC jwUvtM\"><span class=\"UyQiaNpRWAFeZAEKh6vP\"><p class=\"encore-text encore-text-body-medium ListRowTitle__ListRowText-sc-1xe2if1-1 eFGzcP\" data-encore-id=\"listRowTitle\" id=\"listrow-title-track-spotify:track:77ZWXJ3aBVrbeJGAxJCvUz-1\"><span class=\"ListRowTitle__LineClamp-sc-1xe2if1-0 jjpOuK\">Kemet Baixada</span></p></span></div><div class=\"Areas__InteractiveArea-sc-8gfrea-0 Areas__TrailingSlot-sc-8gfrea-7 bJSfgC jpzxju\"><div class=\"JmAAOV57nqLdnvqrbcqb\"><button data-testid=\"context-menu-action-button\" class=\"Button-sc-1dqy6lx-0 dvcGkf BfiNtGPhVtNLQfLL8FSg\" aria-label=\"More\" data-encore-id=\"buttonTertiary\"><span aria-hidden=\"true\" class=\"IconWrapper__Wrapper-sc-16usrgb-0 hYdsxw\"><svg data-encore-id=\"icon\" role=\"img\" aria-hidden=\"true\" viewBox=\"0 0 24 24\" class=\"Svg-sc-ytk21e-0 bneLcE\"><path d='M10.5 4.5a1.5 1.5 0 1 0 3 0 1.5 1.5 0 0 0-3 0zm0 15a1.5 1.5 0 1 0 3 0 1.5 1.5 0 0 0-3 0zm0-7.5a1.5 1.5 0 1 0 3 0 1.5 1.5 0 0 0-3 0z'/></svg></span></button></div></div></div></div><div class=\"Box__BoxComponent-sc-y4nds-0 euQtut Box-sc-8t9c76-0 iDqitu\" data-encore-id=\"listRow\" role=\"group\" aria-labelledby=\"listrow-title-track-spotify:track:5SXRWUWFHnX4vDqGI8ZSiQ-2\" aria-label=\"Vagão\" data-testid=\"track-row\"><div data-testid=\"mouse-only-link\" class=\"RowMouseLink-sc-hvecl1-0 fMBnBN\"></div><div style=\"display:none\" id=\"onClickHinttrack-spotify:track:5SXRWUWFHnX4vDqGI8ZSiQ-2\"></div><div class=\"Areas__HeaderSideArea-sc-8gfrea-1 ljvfQS\"><div class=\"Areas__HeaderSideAreaFlexContainer-sc-8gfrea-2 hvZiQp\"><img alt=\"\" src=\"https://i.scdn.co/image/ab67616d00004851a13ebe39cc31be4f9eb3ed3d\" class=\"Image-sc-1u215sg-3 cfDfKU ListRowImage__ListRowImageComponent-sc-1uaxq9n-0 ctMhZp\" data-encore-id=\"image\"/></div></div><div class=\"Areas__HeaderArea-sc-8gfrea-3 TJKQw\"><div class=\"Areas__InteractiveArea-sc-8gfrea-0 Areas__Column-sc-8gfrea-5 bJSfgC jwUvtM\"><span class=\"UyQiaNpRWAFeZAEKh6vP\"><p class=\"encore-text encore-text-body-medium ListRowTitle__ListRowText-sc-1xe2if1-1 eFGzcP\" data-encore-id=\"listRowTitle\" id=\"listrow-title-track-spotify:track:5SXRWUWFHnX4vDqGI8ZSiQ-2\"><span class=\"ListRowTitle__LineClamp-sc-1xe2if1-0 jjpOuK\">Vagão</span></p></span><p class=\"encore-text encore-text-body-small encore-internal-color-text-subdued ListRowDetails__ListRowDetailText-sc-sozu4l-0 hxCObm\" data-encore-id=\"listRowSubtitle\" id=\"listrow-subtitle-track-spotify:track:5SXRWUWFHnX4vDqGI8ZSiQ-2\">3,506</p></div><div class=\"Areas__InteractiveArea-sc-8gfrea-0 Areas__TrailingSlot-sc-8gfrea-7 bJSfgC jpzxju\"><div class=\"JmAAOV57nqLdnvqrbcqb\"><button data-testid=\"context-menu-action-button\" class=\"Button-sc-1dqy6lx-0 dvcGkf BfiNtGPhVtNLQfLL8FSg\" aria-label=\"More\" data-encore-id=\"buttonTertiary\"><span aria-hidden=\"true\" class=\"IconWrapper__Wrapper-sc-16usrgb-0 hYdsxw\"><svg data-encore-id=\"icon\" role=\"img\" aria-hidden=\"true\" viewBox=\"0 0 24 24\" class=\"Svg-sc-ytk21e-0 bneLcE\"><path d='M10.5 4.5a1.5 1.5 0 1 0 3 0 1.5 1.5 0 0 0-3 0zm0 15a1.5 1.5 0 1 0 3 0 1.5 1.5 0 0 0-3 0zm0-7.5a1.5 1.5 0 1 0 3 0 1.5 1.5 0 0 0-3 0z'/></svg></span></button></div></div></div></div><div class=\"Box__BoxComponent-sc-y4nds-0 euQtut Box-sc-8t9c76-0 iDqitu\" data-encore-id=\"listRow\" role=\"group\" aria-labelledby=\"listrow-title-track-spotify:track:5aQcWt95A7JalZQYBZhUEi-3\" aria-label=\"Clipe\" data-testid=\"track-row\"><div data-testid=\"mouse-only-link\" class=\"RowMouseLink-sc-hvecl1-0 fMBnBN\"></div><div style=\"display:none\" id=\"onClickHinttrack-spotify:track:5aQcWt95A7JalZQYBZhUEi-3\"></div><div class=\"Areas__HeaderSideArea-sc-8gfrea-1 ljvfQS\"><div class=\"Areas__HeaderSideAreaFlexContainer-sc-8gfrea-2 hvZiQp\"><img alt=\"\" src=\"https://i.scdn.co/image/ab67616d00004851e2529a9bf0163442e5357671\" class=\"Image-sc-1u215sg-3 cfDfKU ListRowImage__ListRowImageComponent-sc-1uaxq9n-0 ctMhZp\" data-encore-id=\"image\"/></div></div><div class=\"Areas__HeaderArea-sc-8gfrea-3 TJKQw\"><div class=\"Areas__InteractiveArea-sc-8gfrea-0 Areas__Column-sc-8gfrea-5 bJSfgC jwUvtM\"><span class=\"UyQiaNpRWAFeZAEKh6vP\"><p class=\"encore-text encore-text-body-medium ListRowTitle__ListRowText-sc-1xe2if1-1 eFGzcP\" data-encore-id=\"listRowTitle\" id=\"listrow-title-track-spotify:track:5aQcWt95A7JalZQYBZhUEi-3\"><span class=\"ListRowTitle__LineClamp-sc-1xe2if1-0 jjpOuK\">Clipe</span></p></span></div><div class=\"Areas__InteractiveArea-sc-8gfrea-0 Areas__TrailingSlot-sc-8gfrea-7 bJSfgC jpzxju\"><div class=\"JmAAOV57nqLdnvqrbcqb\"><button data-testid=\"context-menu-action-button\" class=\"Button-sc-1dqy6lx-0 dvcGkf BfiNtGPhVtNLQfLL8FSg\" aria-label=\"More\" data-encore-id=\"buttonTertiary\"><span aria-hidden=\"true\" class=\"IconWrapper__Wrapper-sc-16usrgb-0 hYdsxw\"><svg data-encore-id=\"icon\" role=\"img\" aria-hidden=\"true\" viewBox=\"0 0 24 24\" class=\"Svg-sc-ytk21e-0 bneLcE\"><path d='M10.5 4.5a1.5 1.5 0 1 0 3 0 1.5 1.5 0 0 0-3 0zm0 15a1.5 1.5 0 1 0 3 0 1.5 1.5 0 0 0-3 0zm0-7.5a1.5 1.5 0 1 0 3 0 1.5 1.5 0 0 0-3 0z'/></svg></span></button></div></div></div></div><div class=\"Box__BoxComponent-sc-y4nds-0 euQtut Box-sc-8t9c76-0 iDqitu\" data-encore-id=\"listRow\" role=\"group\" aria-labelledby=\"listrow-title-track-spotify:track:3U5NyBGyG0Xs38kvBeEykN-4\" aria-label=\"Vai Descendo Comigo\" data-testid=\"track-row\"><div data-testid=\"mouse-only-link\" class=\"RowMouseLink-sc-hvecl1-0 fMBnBN\"></div><div style=\"display:none\" id=\"onClickHinttrack-spotify:track:3U5NyBGyG0Xs38kvBeEykN-4\"></div><div class=\"Areas__HeaderSideArea-sc-8gfrea-1 ljvfQS\"><div class=\"Areas__HeaderSideAreaFlexContainer-sc-8gfrea-2 hvZiQp\"><img alt=\"\" src=\"https://i.scdn.co/image/ab67616d00004851308c8f296c27986dae9ec729\" class=\"Image-sc-1u215sg-3 cfDfKU ListRowImage__ListRowImageComponent-sc-1uaxq9n-0 ctMhZp\" data-encore-id=\"image\"/></div></div><div class=\"Areas__HeaderArea-sc-8gfrea-3 TJKQw\"><div class=\"Areas__InteractiveArea-sc-8gfrea-0 Areas__Column-sc-8gfrea-5 bJSfgC jwUvtM\"><span class=\"UyQiaNpRWAFeZAEKh6vP\"><p class=\"encore-text encore-text-body-medium ListRowTitle__ListRowText-sc-1xe2if1-1 eFGzcP\" data-encore-id=\"listRowTitle\" id=\"listrow-title-track-spotify:track:3U5NyBGyG0Xs38kvBeEykN-4\"><span class=\"ListRowTitle__LineClamp-sc-1xe2if1-0 jjpOuK\">Vai Descendo Comigo</span></p></span><p class=\"encore-text encore-text-body-small encore-internal-color-text-subdued ListRowDetails__ListRowDetailText-sc-sozu4l-0 hxCObm\" data-encore-id=\"listRowSubtitle\" id=\"listrow-subtitle-track-spotify:track:3U5NyBGyG0Xs38kvBeEykN-4\">3,234</p></div><div class=\"Areas__InteractiveArea-sc-8gfrea-0 Areas__TrailingSlot-sc-8gfrea-7 bJSfgC jpzxju\"><div class=\"JmAAOV57nqLdnvqrbcqb\"><button data-testid=\"context-menu-action-button\" class=\"Button-sc-1dqy6lx-0 dvcGkf BfiNtGPhVtNLQfLL8FSg\" aria-label=\"More\" data-encore-id=\"buttonTertiary\"><span aria-hidden=\"true\" class=\"IconWrapper__Wrapper-sc-16usrgb-0 hYdsxw\"><svg data-encore-id=\"icon\" role=\"img\" aria-hidden=\"true\" viewBox=\"0 0 24 24\" class=\"Svg-sc-ytk21e-0 bneLcE\"><path d='M10.5 4.5a1.5 1.5 0 1 0 3 0 1.5 1.5 0 0 0-3 0zm0 15a1.5 1.5 0 1 0 3 0 1.5 1.5 0 0 0-3 0zm0-7.5a1.5 1.5 0 1 0 3 0 1.5 1.5 0 0 0-3 0z'/></svg></span></button></div></div></div></div></div></div><div class=\"W83TapOsqJZ4Hx0meV8D\"><h2 class=\"encore-text encore-text-body-medium-bold\" data-encore-id=\"text\">Popular releases</h2><a draggable=\"false\" class=\"qGVmxQF18HVRCWVufk6h\" href=\"/album/0Gy6OZ3CTWCC63sLyJveb2\"><img aria-hidden=\"false\" draggable=\"false\" loading=\"lazy\" src=\"https://i.scdn.co/image/ab67616d00004851e2529a9bf0163442e5357671\" alt=\"\" class=\"mMx2LUixlnN_Fu45JpFB osTuebYzE0zDnDEKDERj\"/><div class=\"azkHuNz32TwjdAT5lrfd\"><span class=\"encore-text encore-text-body-medium Hj3ST6Lg66UEtynHfOT8\" data-encore-id=\"text\">Clipe</span><span class=\"encore-text encore-text-body-small encore-internal-color-text-subdued\" data-encore-id=\"text\">Latest Release • Album</span></div></a><a draggable=\"false\" class=\"qGVmxQF18HVRCWVufk6h\" href=\"/album/0Gy6OZ3CTWCC63sLyJveb2\"><img aria-hidden=\"false\" draggable=\"false\" loading=\"lazy\" src=\"https://i.scdn.co/image/ab67616d00004851e2529a9bf0163442e5357671\" alt=\"\" class=\"mMx2LUixlnN_Fu45JpFB osTuebYzE0zDnDEKDERj\"/><div class=\"azkHuNz32TwjdAT5lrfd\"><span class=\"encore-text encore-text-body-medium Hj3ST6Lg66UEtynHfOT8\" data-encore-id=\"text\">Clipe</span><span class=\"encore-text encore-text-body-small encore-internal-color-text-subdued\" data-encore-id=\"text\">2024 • Album</span></div></a><a draggable=\"false\" class=\"qGVmxQF18HVRCWVufk6h\" href=\"/album/1n3aF38geKa1oHIoSsA0MP\"><img aria-hidden=\"false\" draggable=\"false\" loading=\"lazy\" src=\"https://i.scdn.co/image/ab67616d00004851b272d89346dff90f41684e8f\" alt=\"\" class=\"mMx2LUixlnN_Fu45JpFB osTuebYzE0zDnDEKDERj\"/><div class=\"azkHuNz32TwjdAT5lrfd\"><span class=\"encore-text encore-text-body-medium Hj3ST6Lg66UEtynHfOT8\" data-encore-id=\"text\">Kemet Baixada</span><span class=\"encore-text encore-text-body-small encore-internal-color-text-subdued\" data-encore-id=\"text\">2024 • Album</span></div></a><a draggable=\"false\" class=\"qGVmxQF18HVRCWVufk6h\" href=\"/album/7N3imGtIT3tw3xWJm0LPRR\"><img aria-hidden=\"false\" draggable=\"false\" loading=\"lazy\" src=\"https://i.scdn.co/image/ab67616d00004851308c8f296c27986dae9ec729\" alt=\"\" class=\"mMx2LUixlnN_Fu45JpFB osTuebYzE0zDnDEKDERj\"/><div class=\"azkHuNz32TwjdAT5lrfd\"><span class=\"encore-text encore-text-body-medium Hj3ST6Lg66UEtynHfOT8\" data-encore-id=\"text\">Vai Descendo Comigo</span><span class=\"encore-text encore-text-body-small encore-internal-color-text-subdued\" data-encore-id=\"text\">2023 • Album</span></div></a><a draggable=\"false\" class=\"qGVmxQF18HVRCWVufk6h\" href=\"/album/0kGcODahHnoRkaqsAQiIvB\"><img aria-hidden=\"false\" draggable=\"false\" loading=\"lazy\" src=\"https://i.scdn.co/image/ab67616d0000485196f2ac66319d110568751788\" alt=\"\" class=\"mMx2LUixlnN_Fu45JpFB osTuebYzE0zDnDEKDERj\"/><div class=\"azkHuNz32TwjdAT5lrfd\"><span class=\"encore-text encore-text-body-medium Hj3ST6Lg66UEtynHfOT8\" data-encore-id=\"text\">Bença, Vó!</span><span class=\"encore-text encore-text-body-small encore-internal-color-text-subdued\" data-encore-id=\"text\">2022 • Album</span></div></a><a draggable=\"false\" class=\"qGVmxQF18HVRCWVufk6h\" href=\"/album/6X2eczucxjMDYx9Xy2dEmL\"><img aria-hidden=\"false\" draggable=\"false\" loading=\"lazy\" src=\"https://i.scdn.co/image/ab67616d00004851a13ebe39cc31be4f9eb3ed3d\" alt=\"\" class=\"mMx2LUixlnN_Fu45JpFB osTuebYzE0zDnDEKDERj\"/><div class=\"azkHuNz32TwjdAT5lrfd\"><span class=\"encore-text encore-text-body-medium Hj3ST6Lg66UEtynHfOT8\" data-encore-id=\"text\">Vagão</span><span class=\"encore-text encore-text-body-small encore-internal-color-text-subdued\" data-encore-id=\"text\">2022 • Album</span></div></a></div><div><div class=\"JMgUTIyId0RuU9k6aQaz\"><h2 class=\"encore-text encore-text-title-small\" data-encore-id=\"text\" dir=\"auto\">Singles and EPs</h2></div><div class=\"qirFczpKFgQDsNuuzLHP\" data-testid=\"carousel-mwp\"><div data-testid=\"card-mwp\" class=\"GtWz6DBoskS84f0Pggus\"><a draggable=\"false\" href=\"/album/0Gy6OZ3CTWCC63sLyJveb2\"><div class=\"oBCZQFuv15YE1qV0Fpph\"><img aria-hidden=\"false\" draggable=\"false\" loading=\"lazy\" src=\"https://i.scdn.co/image/ab67616d00001e02e2529a9bf0163442e5357671\" alt=\"\" class=\"mMx2LUixlnN_Fu45JpFB\" width=\"100%\" height=\"100%\"/></div><span class=\"encore-text encore-text-body-small-bold bAoMcNJrNmKnmCl3rsYX\" data-encore-id=\"text\" style=\"padding-block-end:spacer8\" dir=\"auto\">Clipe</span><div class=\"encore-text encore-text-marginal encore-internal-color-text-subdued NUIYLDG1fxo4fduLNM4C\" data-encore-id=\"text\" dir=\"auto\">Single • 2024</div></a></div><div data-testid=\"card-mwp\" class=\"GtWz6DBoskS84f0Pggus\"><a draggable=\"false\" href=\"/album/1n3aF38geKa1oHIoSsA0MP\"><div class=\"oBCZQFuv15YE1qV0Fpph\"><img aria-hidden=\"false\" draggable=\"false\" loading=\"lazy\" src=\"https://i.scdn.co/image/ab67616d00001e02b272d89346dff90f41684e8f\" alt=\"\" class=\"mMx2LUixlnN_Fu45JpFB\" width=\"100%\" height=\"100%\"/></div><span class=\"encore-text encore-text-body-small-bold bAoMcNJrNmKnmCl3rsYX\" data-encore-id=\"text\" style=\"padding-block-end:spacer8\" dir=\"auto\">Kemet Baixada</span><div class=\"encore-text encore-text-marginal encore-internal-color-text-subdued NUIYLDG1fxo4fduLNM4C\" data-encore-id=\"text\" dir=\"auto\">Single • 2024</div></a></div><div data-testid=\"card-mwp\" class=\"GtWz6DBoskS84f0Pggus\"><a draggable=\"false\" href=\"/album/7N3imGtIT3tw3xWJm0LPRR\"><div class=\"oBCZQFuv15YE1qV0Fpph\"><img aria-hidden=\"false\" draggable=\"false\" loading=\"lazy\" src=\"https://i.scdn.co/image/ab67616d00001e02308c8f296c27986dae9ec729\" alt=\"\" class=\"mMx2LUixlnN_Fu45JpFB\" width=\"100%\" height=\"100%\"/></div><span class=\"encore-text encore-text-body-small-bold bAoMcNJrNmKnmCl3rsYX\" data-encore-id=\"text\" style=\"padding-block-end:spacer8\" dir=\"auto\">Vai Descendo Comigo</span><div class=\"encore-text encore-text-marginal encore-internal-color-text-subdued NUIYLDG1fxo4fduLNM4C\" data-encore-id=\"text\" dir=\"auto\">Single • 2023</div></a></div><div data-testid=\"card-mwp\" class=\"GtWz6DBoskS84f0Pggus\"><a draggable=\"false\" href=\"/album/6X2eczucxjMDYx9Xy2dEmL\"><div class=\"oBCZQFuv15YE1qV0Fpph\"><img aria-hidden=\"false\" draggable=\"false\" loading=\"lazy\" src=\"https://i.scdn.co/image/ab67616d00001e02a13ebe39cc31be4f9eb3ed3d\" alt=\"\" class=\"mMx2LUixlnN_Fu45JpFB\" width=\"100%\" height=\"100%\"/></div><span class=\"encore-text encore-text-body-small-bold bAoMcNJrNmKnmCl3rsYX\" data-encore-id=\"text\" style=\"padding-block-end:spacer8\" dir=\"auto\">Vagão</span><div class=\"encore-text encore-text-marginal encore-internal-color-text-subdued NUIYLDG1fxo4fduLNM4C\" data-encore-id=\"text\" dir=\"auto\">Single • 2022</div></a></div><div data-testid=\"card-mwp\" class=\"GtWz6DBoskS84f0Pggus\"><a draggable=\"false\" href=\"/album/0kGcODahHnoRkaqsAQiIvB\"><div class=\"oBCZQFuv15YE1qV0Fpph\"><img aria-hidden=\"false\" draggable=\"false\" loading=\"lazy\" src=\"https://i.scdn.co/image/ab67616d00001e0296f2ac66319d110568751788\" alt=\"\" class=\"mMx2LUixlnN_Fu45JpFB\" width=\"100%\" height=\"100%\"/></div><span class=\"encore-text encore-text-body-small-bold bAoMcNJrNmKnmCl3rsYX\" data-encore-id=\"text\" style=\"padding-block-end:spacer8\" dir=\"auto\">Bença, Vó!</span><div class=\"encore-text encore-text-marginal encore-internal-color-text-subdued NUIYLDG1fxo4fduLNM4C\" data-encore-id=\"text\" dir=\"auto\">Single • 2022</div></a></div><div data-testid=\"card-mwp\" class=\"GtWz6DBoskS84f0Pggus\"><a draggable=\"false\" href=\"/album/5g7BPOVMZZ8dmNabrrNWZg\"><div class=\"oBCZQFuv15YE1qV0Fpph\"><img aria-hidden=\"false\" draggable=\"false\" loading=\"lazy\" src=\"https://i.scdn.co/image/ab67616d00001e0202bd8759525e4b68f297666b\" alt=\"\" class=\"mMx2LUixlnN_Fu45JpFB\" width=\"100%\" height=\"100%\"/></div><span class=\"encore-text encore-text-body-small-bold bAoMcNJrNmKnmCl3rsYX\" data-encore-id=\"text\" style=\"padding-block-end:spacer8\" dir=\"auto\">Juntin</span><div class=\"encore-text encore-text-marginal encore-internal-color-text-subdued NUIYLDG1fxo4fduLNM4C\" data-encore-id=\"text\" dir=\"auto\">Single • 2021</div></a></div><div data-testid=\"card-mwp\" class=\"GtWz6DBoskS84f0Pggus\"><a draggable=\"false\" href=\"/album/7uGquxHE1X7NvAnyHV9fpC\"><div class=\"oBCZQFuv15YE1qV0Fpph\"><img aria-hidden=\"false\" draggable=\"false\" loading=\"lazy\" src=\"https://i.scdn.co/image/ab67616d00001e0267b4763e872be3ae66471612\" alt=\"\" class=\"mMx2LUixlnN_Fu45JpFB\" width=\"100%\" height=\"100%\"/></div><span class=\"encore-text encore-text-body-small-bold bAoMcNJrNmKnmCl3rsYX\" data-encore-id=\"text\" style=\"padding-block-end:spacer8\" dir=\"auto\">Resistência</span><div class=\"encore-text encore-text-marginal encore-internal-color-text-subdued NUIYLDG1fxo4fduLNM4C\" data-encore-id=\"text\" dir=\"auto\">Single • 2018</div></a></div></div></div><div><div class=\"JMgUTIyId0RuU9k6aQaz\"><h2 class=\"encore-text encore-text-title-small\" data-encore-id=\"text\" dir=\"auto\">Featuring Adrielle Vieira</h2></div><div class=\"qirFczpKFgQDsNuuzLHP\" data-testid=\"carousel-mwp\"><div data-testid=\"card-mwp\" class=\"GtWz6DBoskS84f0Pggus\"><a draggable=\"false\" href=\"/playlist/37i9dQZF1E4vIlFqUAJe3E\"><div class=\"oBCZQFuv15YE1qV0Fpph\"><img aria-hidden=\"false\" draggable=\"false\" loading=\"lazy\" src=\"https://pickasso.spotifycdn.com/image/ab67c0de0000deef/dt/v1/img/radio/artist/27CgxvcVt6XHurgcoiRc6b/en\" alt=\"\" class=\"mMx2LUixlnN_Fu45JpFB\" width=\"100%\" height=\"100%\"/></div><span class=\"encore-text encore-text-body-small-bold bAoMcNJrNmKnmCl3rsYX\" data-encore-id=\"text\" style=\"padding-block-end:spacer8\" dir=\"auto\">Adrielle Vieira Radio</span></a></div></div></div><div><div class=\"JMgUTIyId0RuU9k6aQaz\"><h2 class=\"encore-text encore-text-title-small\" data-encore-id=\"text\" dir=\"auto\">Fans also like</h2></div><div class=\"qirFczpKFgQDsNuuzLHP\" data-testid=\"carousel-mwp\"><div data-testid=\"card-mwp\" class=\"GtWz6DBoskS84f0Pggus\"><a draggable=\"false\" href=\"/artist/7zGGnCYdzx7qxN04vp1p9c\"><div class=\"oBCZQFuv15YE1qV0Fpph WAW145CSKVszsgMfiNsc\"><img aria-hidden=\"false\" draggable=\"false\" loading=\"lazy\" src=\"https://i.scdn.co/image/ab6761610000f178f02067147c380bc320143428\" alt=\"\" class=\"mMx2LUixlnN_Fu45JpFB\" width=\"100%\" height=\"100%\"/></div><span class=\"encore-text encore-text-body-small-bold bAoMcNJrNmKnmCl3rsYX\" data-encore-id=\"text\" style=\"padding-block-end:spacer8\" dir=\"auto\">Mana Moa Mc</span></a></div><div data-testid=\"card-mwp\" class=\"GtWz6DBoskS84f0Pggus\"><a draggable=\"false\" href=\"/artist/1Rk1WfvNaBxlWRWJQG8qyJ\"><div class=\"oBCZQFuv15YE1qV0Fpph WAW145CSKVszsgMfiNsc\"><img aria-hidden=\"false\" draggable=\"false\" loading=\"lazy\" src=\"https://i.scdn.co/image/ab6761610000f178a793abac4d11cf0437bd7463\" alt=\"\" class=\"mMx2LUixlnN_Fu45JpFB\" width=\"100%\" height=\"100%\"/></div><span class=\"encore-text encore-text-body-small-bold bAoMcNJrNmKnmCl3rsYX\" data-encore-id=\"text\" style=\"padding-block-end:spacer8\" dir=\"auto\">Maria Preta MC</span></a></div><div data-testid=\"card-mwp\" class=\"GtWz6DBoskS84f0Pggus\"><a draggable=\"false\" href=\"/artist/4V30Gpv7PGQ8t5hk7YrvtJ\"><div class=\"oBCZQFuv15YE1qV0Fpph WAW145CSKVszsgMfiNsc\"><img aria-hidden=\"false\" draggable=\"false\" loading=\"lazy\" src=\"https://i.scdn.co/image/ab6761610000f178714978cf0cbe710efbe9fe79\" alt=\"\" class=\"mMx2LUixlnN_Fu45JpFB\" width=\"100%\" height=\"100%\"/></div><span class=\"encore-text encore-text-body-small-bold bAoMcNJrNmKnmCl3rsYX\" data-encore-id=\"text\" style=\"padding-block-end:spacer8\" dir=\"auto\">Soujones</span></a></div><div data-testid=\"card-mwp\" class=\"GtWz6DBoskS84f0Pggus\"><a draggable=\"false\" href=\"/artist/5vOmxFH1OeYhdO1zEEayI1\"><div class=\"oBCZQFuv15YE1qV0Fpph WAW145CSKVszsgMfiNsc\"><img aria-hidden=\"false\" draggable=\"false\" loading=\"lazy\" src=\"https://i.scdn.co/image/ab6761610000f178110c8ec5318efb4cb40c29d8\" alt=\"\" class=\"mMx2LUixlnN_Fu45JpFB\" width=\"100%\" height=\"100%\"/></div><span class=\"encore-text encore-text-body-small-bold bAoMcNJrNmKnmCl3rsYX\" data-encore-id=\"text\" style=\"padding-block-end:spacer8\" dir=\"auto\">HUNÁ</span></a></div><div data-testid=\"card-mwp\" class=\"GtWz6DBoskS84f0Pggus\"><a draggable=\"false\" href=\"/artist/5AoUeXXZmJEMDoS43tRKfJ\"><div class=\"oBCZQFuv15YE1qV0Fpph WAW145CSKVszsgMfiNsc\"><img aria-hidden=\"false\" draggable=\"false\" loading=\"lazy\" src=\"https://i.scdn.co/image/ab6761610000f178acd680e17bff9fa5ea109e92\" alt=\"\" class=\"mMx2LUixlnN_Fu45JpFB\" width=\"100%\" height=\"100%\"/></div><span class=\"encore-text encore-text-body-small-bold bAoMcNJrNmKnmCl3rsYX\" data-encore-id=\"text\" style=\"padding-block-end:spacer8\" dir=\"auto\">MC EricMR</span></a></div><div data-testid=\"card-mwp\" class=\"GtWz6DBoskS84f0Pggus\"><a draggable=\"false\" href=\"/artist/20OjZbtOi9y8kLi7XCv0oi\"><div class=\"oBCZQFuv15YE1qV0Fpph WAW145CSKVszsgMfiNsc\"><img aria-hidden=\"false\" draggable=\"false\" loading=\"lazy\" src=\"https://i.scdn.co/image/ab6761610000f178aa461cbb4d7b00110e37474a\" alt=\"\" class=\"mMx2LUixlnN_Fu45JpFB\" width=\"100%\" height=\"100%\"/></div><span class=\"encore-text encore-text-body-small-bold bAoMcNJrNmKnmCl3rsYX\" data-encore-id=\"text\" style=\"padding-block-end:spacer8\" dir=\"auto\">Violinista Chavosa</span></a></div><div data-testid=\"card-mwp\" class=\"GtWz6DBoskS84f0Pggus\"><a draggable=\"false\" href=\"/artist/3oQDiQi9zXZW3e4ICXkfC1\"><div class=\"oBCZQFuv15YE1qV0Fpph WAW145CSKVszsgMfiNsc\"><img aria-hidden=\"false\" draggable=\"false\" loading=\"lazy\" src=\"https://i.scdn.co/image/ab6761610000f1784a915de6b3b239ddaaa42e28\" alt=\"\" class=\"mMx2LUixlnN_Fu45JpFB\" width=\"100%\" height=\"100%\"/></div><span class=\"encore-text encore-text-body-small-bold bAoMcNJrNmKnmCl3rsYX\" data-encore-id=\"text\" style=\"padding-block-end:spacer8\" dir=\"auto\">Jaísa Caldas</span></a></div><div data-testid=\"card-mwp\" class=\"GtWz6DBoskS84f0Pggus\"><a draggable=\"false\" href=\"/artist/61Jd74mAhmH76filX9p7UD\"><div class=\"oBCZQFuv15YE1qV0Fpph WAW145CSKVszsgMfiNsc\"><img aria-hidden=\"false\" draggable=\"false\" loading=\"lazy\" src=\"https://i.scdn.co/image/ab6761610000f17845557b65e8282f9ecc54fe26\" alt=\"\" class=\"mMx2LUixlnN_Fu45JpFB\" width=\"100%\" height=\"100%\"/></div><span class=\"encore-text encore-text-body-small-bold bAoMcNJrNmKnmCl3rsYX\" data-encore-id=\"text\" style=\"padding-block-end:spacer8\" dir=\"auto\">Jess Luna</span></a></div></div></div><div><div class=\"JMgUTIyId0RuU9k6aQaz\"><h2 class=\"encore-text encore-text-title-small\" data-encore-id=\"text\" dir=\"auto\">Appears On</h2></div><div class=\"qirFczpKFgQDsNuuzLHP\" data-testid=\"carousel-mwp\"><div data-testid=\"card-mwp\" class=\"GtWz6DBoskS84f0Pggus\"><a draggable=\"false\" href=\"/album/43hJqbxxWKAI0juDlzGhHa\"><div class=\"oBCZQFuv15YE1qV0Fpph\"><img aria-hidden=\"false\" draggable=\"false\" loading=\"lazy\" src=\"https://i.scdn.co/image/ab67616d00001e0269959bd81f7ba1a63c490110\" alt=\"\" class=\"mMx2LUixlnN_Fu45JpFB\" width=\"100%\" height=\"100%\"/></div><span class=\"encore-text encore-text-body-small-bold bAoMcNJrNmKnmCl3rsYX\" data-encore-id=\"text\" style=\"padding-block-end:spacer8\" dir=\"auto\">#EOFunk Volume 1</span></a></div><div data-testid=\"card-mwp\" class=\"GtWz6DBoskS84f0Pggus\"><a draggable=\"false\" href=\"/album/6JuiTdXs3qDSz1DxyhwphZ\"><div class=\"oBCZQFuv15YE1qV0Fpph\"><img aria-hidden=\"false\" draggable=\"false\" loading=\"lazy\" src=\"https://i.scdn.co/image/ab67616d00001e0277373cc64925f00e3f0e719c\" alt=\"\" class=\"mMx2LUixlnN_Fu45JpFB\" width=\"100%\" height=\"100%\"/></div><span class=\"encore-text encore-text-body-small-bold bAoMcNJrNmKnmCl3rsYX\" data-encore-id=\"text\" style=\"padding-block-end:spacer8\" dir=\"auto\">Criança-Soldado</span></a></div><div data-testid=\"card-mwp\" class=\"GtWz6DBoskS84f0Pggus\"><a draggable=\"false\" href=\"/album/1Vi37DlLGrtYlMrxK4GgIk\"><div class=\"oBCZQFuv15YE1qV0Fpph\"><img aria-hidden=\"false\" draggable=\"false\" loading=\"lazy\" src=\"https://i.scdn.co/image/ab67616d00001e025969b9a0acc82f9769cd440a\" alt=\"\" class=\"mMx2LUixlnN_Fu45JpFB\" width=\"100%\" height=\"100%\"/></div><span class=\"encore-text encore-text-body-small-bold bAoMcNJrNmKnmCl3rsYX\" data-encore-id=\"text\" style=\"padding-block-end:spacer8\" dir=\"auto\">#EOFunk Cypher 02 - Vivência</span></a></div><div data-testid=\"card-mwp\" class=\"GtWz6DBoskS84f0Pggus\"><a draggable=\"false\" href=\"/album/2ubqav5XwL6WI84hgtnUAV\"><div class=\"oBCZQFuv15YE1qV0Fpph\"><img aria-hidden=\"false\" draggable=\"false\" loading=\"lazy\" src=\"https://i.scdn.co/image/ab67616d00001e0206038f2827e225a775448a27\" alt=\"\" class=\"mMx2LUixlnN_Fu45JpFB\" width=\"100%\" height=\"100%\"/></div><span class=\"encore-text encore-text-body-small-bold bAoMcNJrNmKnmCl3rsYX\" data-encore-id=\"text\" style=\"padding-block-end:spacer8\" dir=\"auto\">Bxd Existe</span></a></div></div></div><div><div class=\"JMgUTIyId0RuU9k6aQaz\"><h2 class=\"encore-text encore-text-title-small\" data-encore-id=\"text\" dir=\"auto\">Artist Playlists</h2></div><div class=\"qirFczpKFgQDsNuuzLHP\" data-testid=\"carousel-mwp\"><div data-testid=\"card-mwp\" class=\"GtWz6DBoskS84f0Pggus\"><a draggable=\"false\" href=\"/playlist/36iKLDs9YexwkNhFo7epak\"><div class=\"oBCZQFuv15YE1qV0Fpph\"><img aria-hidden=\"false\" draggable=\"false\" loading=\"lazy\" src=\"https://image-cdn-fa.spotifycdn.com/image/ab67706c0000da84cdd07103312d87e9a32edc5f\" alt=\"\" class=\"mMx2LUixlnN_Fu45JpFB\" width=\"100%\" height=\"100%\"/></div><span class=\"encore-text encore-text-body-small-bold bAoMcNJrNmKnmCl3rsYX\" data-encore-id=\"text\" style=\"padding-block-end:spacer8\" dir=\"auto\">Mulheres no Hip Hop</span></a></div><div data-testid=\"card-mwp\" class=\"GtWz6DBoskS84f0Pggus\"><a draggable=\"false\" href=\"/playlist/2eSNhJQGBe9N5dRCi8GtoO\"><div class=\"oBCZQFuv15YE1qV0Fpph\"><img aria-hidden=\"false\" draggable=\"false\" loading=\"lazy\" src=\"https://image-cdn-ak.spotifycdn.com/image/ab67706c0000da84dbd08c5933148163ca5aaa87\" alt=\"\" class=\"mMx2LUixlnN_Fu45JpFB\" width=\"100%\" height=\"100%\"/></div><span class=\"encore-text encore-text-body-small-bold bAoMcNJrNmKnmCl3rsYX\" data-encore-id=\"text\" style=\"padding-block-end:spacer8\" dir=\"auto\">Adrielle 🎶🚉</span></a></div><div data-testid=\"card-mwp\" class=\"GtWz6DBoskS84f0Pggus\"><a draggable=\"false\" href=\"/playlist/2yWzJkEmMMf3fvdOkOgZZZ\"><div class=\"oBCZQFuv15YE1qV0Fpph\"><img aria-hidden=\"false\" draggable=\"false\" loading=\"lazy\" src=\"https://image-cdn-fa.spotifycdn.com/image/ab67706c0000da84f45906aed19656c936292139\" alt=\"\" class=\"mMx2LUixlnN_Fu45JpFB\" width=\"100%\" height=\"100%\"/></div><span class=\"encore-text encore-text-body-small-bold bAoMcNJrNmKnmCl3rsYX\" data-encore-id=\"text\" style=\"padding-block-end:spacer8\" dir=\"auto\">Afrodance - Kuduro- Dance hall</span></a></div></div></div><div><h2 class=\"encore-text encore-text-body-medium-bold\" data-encore-id=\"text\">About</h2><div class=\"encore-text encore-text-body-medium-bold ovtJYocZljdWcU1FLBL5\" data-encore-id=\"text\">86 monthly listeners</div><div class=\"NVZbcfkhR1jnPefW4OyU\" data-testid=\"expandable-description\"><div class=\"buqVKMpwHgGMDJFSl54R\"><div class=\"encore-text encore-text-body-small Zbad_ytC5aqG3ZISd4Gw\" data-encore-id=\"text\"><span class=\"encore-text encore-text-body-small encore-internal-color-text-subdued G_f5DJd2sgHWeto5cwbi\" data-encore-id=\"text\">De Nova Iguaçu</span></div> <div class=\"encore-text encore-text-body-small Zbad_ytC5aqG3ZISd4Gw\" data-encore-id=\"text\"><span class=\"encore-text encore-text-body-small encore-internal-color-text-subdued G_f5DJd2sgHWeto5cwbi\" data-encore-id=\"text\">na Baixada Fluminense Adrielle é Cantora, compositora, atriz, e dançante. Com influências através do movimento Hip Hop,</span><button class=\"Button-sc-1dqy6lx-0 kTFJuL encore-text-body-medium-bold\" data-encore-id=\"buttonTertiary\"><span class=\"encore-text encore-text-body-small-bold\" data-encore-id=\"text\">… <!-- -->see more</span></button></div></div></div></div><div class=\"_STYpglIwDef2Vqxu7xV\"><p class=\"encore-text encore-text-title-medium encore-internal-color-text-base\" data-encore-id=\"text\">291</p><p class=\"encore-text encore-text-body-medium encore-internal-color-text-base\" data-encore-id=\"text\">Followers</p></div><div class=\"ZdmJvgeayszd6ZvSl5B6\"><ul class=\"EU6g4QXfyD_TGfFXIMAQ\"></ul></div></div></div><div class=\"iQxdxLc2HsEnJMZt0Us4\"><hr class=\"HorizontalRule__HorizontalRuleElement-sc-198gjx4-0 gPhSUm bHqWsu7YPnOhoFVoWo1o\" data-encore-id=\"horizontalRule\"/></div></div><!--/$--></div><div class=\"LQ6Ss79CdgHw2ScSPflQ\"></div></div></div></div><aside class=\"encore-dark-theme Yg_FlRTSnjxmfwyAvnFJ\"><div></div></aside></div></div><script id=\"initial-state\" type=\"text/plain\">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</script><script id=\"remote-configuration\" type=\"text/plain\">eyIjdiI6IjEiLCJlbmFibGVTaW1pbGFyQWxidW1zQmFzZWRPblRyYWNrTXdwIjoiY29udHJvbCIsImVuYWJsZUlMUlBsYXlsaXN0TVdQIjoib25seS1zaW1pbGFyLWJlbG93IiwiZW5hYmxlSTE4blJvdXRlcyI6InZhcmlhbnQiLCJkaXNhYmxlVW5hdXRoTHlyaWNzQ1RBIjp0cnVlLCIjY29uZmlndXJhdGlvbkFzc2lnbm1lbnRJZCI6IjU2ODBhMWZiLTNhZWUtOGQ4OC1jMDg3LTg0NDYzNjQ1OWZjMTowIiwiI2dyb3VwSWRzIjp7ImVuYWJsZVNpbWlsYXJBbGJ1bXNCYXNlZE9uVHJhY2tNd3AiOjExOTA0NTYsImVuYWJsZUlMUlBsYXlsaXN0TVdQIjoxMjAxODU5LCJlbmFibGVJMThuUm91dGVzIjoxMTAyNjYxLCJkaXNhYmxlVW5hdXRoTHlyaWNzQ1RBIjoxMTg2NTQxfSwiI2ZldGNoVGltZU1pbGxpcyI6MTcyOTE3NTcyNjgxNiwiI2NvbnRleHRIYXNoIjoiNzlkMzJmMGJlMTEyYWUxNyJ9</script><script src=\"https://open.spotifycdn.com/cdn/build/mobile-web-player/mobile-web-player.9755bd3d.js\"></script><script src=\"https://open.spotifycdn.com/cdn/build/mobile-web-player/vendor~mobile-web-player.8fcf522d.js\"></script></body></html>\n"
          ]
        }
      ]
    },
    {
      "cell_type": "code",
      "source": [
        "df_todos_singles = pd.DataFrame(data)"
      ],
      "metadata": {
        "id": "a_q5SNoA6ENh"
      },
      "execution_count": 58,
      "outputs": []
    },
    {
      "cell_type": "code",
      "source": [
        "df_todos_singles.isnull().sum()"
      ],
      "metadata": {
        "colab": {
          "base_uri": "https://localhost:8080/",
          "height": 178
        },
        "id": "3kiZl5gMFiAK",
        "outputId": "a668ad00-364d-45d3-ae04-9c472a97d2d1"
      },
      "execution_count": 35,
      "outputs": [
        {
          "output_type": "execute_result",
          "data": {
            "text/plain": [
              "Data                0\n",
              "Artista             0\n",
              "Ouvintes Mensais    0\n",
              "dtype: int64"
            ],
            "text/html": [
              "<div>\n",
              "<style scoped>\n",
              "    .dataframe tbody tr th:only-of-type {\n",
              "        vertical-align: middle;\n",
              "    }\n",
              "\n",
              "    .dataframe tbody tr th {\n",
              "        vertical-align: top;\n",
              "    }\n",
              "\n",
              "    .dataframe thead th {\n",
              "        text-align: right;\n",
              "    }\n",
              "</style>\n",
              "<table border=\"1\" class=\"dataframe\">\n",
              "  <thead>\n",
              "    <tr style=\"text-align: right;\">\n",
              "      <th></th>\n",
              "      <th>0</th>\n",
              "    </tr>\n",
              "  </thead>\n",
              "  <tbody>\n",
              "    <tr>\n",
              "      <th>Data</th>\n",
              "      <td>0</td>\n",
              "    </tr>\n",
              "    <tr>\n",
              "      <th>Artista</th>\n",
              "      <td>0</td>\n",
              "    </tr>\n",
              "    <tr>\n",
              "      <th>Ouvintes Mensais</th>\n",
              "      <td>0</td>\n",
              "    </tr>\n",
              "  </tbody>\n",
              "</table>\n",
              "</div><br><label><b>dtype:</b> int64</label>"
            ]
          },
          "metadata": {},
          "execution_count": 35
        }
      ]
    },
    {
      "cell_type": "code",
      "source": [
        "#Pegando info do DataFrame\n",
        "df_todos_singles.info()"
      ],
      "metadata": {
        "colab": {
          "base_uri": "https://localhost:8080/"
        },
        "id": "mrbMG2OlFyLp",
        "outputId": "5028cee7-4daa-4adf-85ee-d845375ecc4b"
      },
      "execution_count": 66,
      "outputs": [
        {
          "output_type": "stream",
          "name": "stdout",
          "text": [
            "<class 'pandas.core.frame.DataFrame'>\n",
            "RangeIndex: 1 entries, 0 to 0\n",
            "Data columns (total 3 columns):\n",
            " #   Column            Non-Null Count  Dtype         \n",
            "---  ------            --------------  -----         \n",
            " 0   Data              1 non-null      datetime64[ns]\n",
            " 1   Artista           1 non-null      object        \n",
            " 2   Ouvintes Mensais  1 non-null      int64         \n",
            "dtypes: datetime64[ns](1), int64(1), object(1)\n",
            "memory usage: 152.0+ bytes\n"
          ]
        }
      ]
    },
    {
      "cell_type": "code",
      "source": [
        "print(df_todas_tracks.columns)"
      ],
      "metadata": {
        "id": "AQL_ZtRo73di",
        "outputId": "ccad9ec7-4302-464e-e951-6adc5230b996",
        "colab": {
          "base_uri": "https://localhost:8080/"
        }
      },
      "execution_count": 60,
      "outputs": [
        {
          "output_type": "stream",
          "name": "stdout",
          "text": [
            "RangeIndex(start=0, stop=0, step=1)\n"
          ]
        }
      ]
    }
  ]
}